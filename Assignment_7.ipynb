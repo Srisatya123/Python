{
 "cells": [
  {
   "cell_type": "markdown",
   "metadata": {},
   "source": [
    "### 1. What is the name of the feature responsible for generating Regex objects?\n",
    "Ans)  The re.compile() function returns Regex objects\n",
    "\n",
    "\n",
    "### 2. Why do raw strings often appear in Regex objects?\n",
    "Ans) Raw strings are used so that backslashes do not have to be escaped.\n",
    "\n",
    "\n",
    "### 3. What is the return value of the search() method?\n",
    "Ans) The search() method returns Match objects.\n",
    "\n",
    "\n",
    "### 4. From a Match item, how do you get the actual strings that match the pattern?\n",
    "Ans) The group() method returns strings of the matched text.\n",
    "\n",
    "\n",
    "### 5. In the regex which created from the r'(\\d\\d\\d)-(\\d\\d\\d-\\d\\d\\d\\d)', what does group zero cover? Group 2? Group 1?\n",
    "Ans) Group 0 is the entire match, group 2 covers the second set of parentheses, and group 1 covers the first set of parentheses.\n",
    "\n",
    "\n",
    "### 6. In standard expression syntax, parentheses and intervals have distinct meanings. How can you tell a regex that you want it to fit real parentheses and periods?\n",
    "Ans) By using backslash \\ can tell the regex to fit real parentheses and periods.\n",
    "\n",
    "\n",
    "### 7. The findall() method returns a string list or a list of string tuples. What causes it to return one of the two options?\n",
    "Ans) If the regex has no groups, a list of strings is returned. If the regex has groups, a list of tuples of strings is returned.\n",
    "\n",
    "\n",
    "### 8. In standard expressions, what does the | character mean?\n",
    "Ans) The symbol | pipe  signifies matching \"either, or\" between two groups.\n",
    "\n",
    "\n",
    "### 9. In regular expressions, what does the ? character stand for?\n",
    "Ans) The symbol ? Stands for below ways:\n",
    "\n",
    "        1. Match zero or one of the preceding group.\n",
    "        \n",
    "        2.Same symbol can be used in the NonGreedy match or Lazy match. \n",
    "\n",
    "\n",
    "### 10.In regular expressions, what is the difference between the + and * characters?\n",
    "Ans) The + is used to match one or more. \n",
    "\n",
    "     The * is used to match zero or more.\n",
    "\n",
    "\n",
    "### 11. What is the difference between {4} and {4,5} in regular expression?\n",
    "Ans) The {4} matches exactly four instances of the preceding group. The {4,5} matches between four and five instances.\n",
    "\n",
    "\n",
    "### 12. What do you mean by the \\d, \\w, and \\s shorthand character classes signify in regular expressions?\n",
    "Ans) \\d represents digites form 0 to 9. same as [0-9]\n",
    "\n",
    "     \\w represents the alphanumeric and also underscore '_'. same as [a-zA-Z0-9_]\n",
    "     \n",
    "     \n",
    "     \\s represents white space characters like \\t\\n\\r\n",
    "    \n",
    "\n",
    "\n",
    "### 13. What do means by \\D, \\W, and \\S shorthand character classes signify in regular expressions?\n",
    "Ans) \\D -- Returns a match where the string DOES NOT contain digits\n",
    "\n",
    "     \\W -- Return a match at every NON word character (characters NOT between a and Z. Like \"!\", \"?\" white-space etc.\n",
    "     \n",
    "     \\S -- Returns a match where the string DOES NOT contain a white space character\n",
    "\n",
    "\n",
    "### 14. What is the difference between .* and .*?\n",
    "Ans) The .* performs a greedy match, and the .*? performs a nongreedy match.\n",
    "\n",
    "\n",
    "### 15. What is the syntax for matching both numbers and lowercase letters with a character class?\n",
    "Ans) 1) [0-9a-z] or \n",
    "\n",
    "     2) [a-z0-9]\n",
    "\n",
    "\n",
    "### 16. What is the procedure for making a normal expression in regax case insensitive?\n",
    "Ans) Have to pass the flag as re.I to make the regex case insensitive in re.compile.\n",
    "\n",
    "\n",
    "### 17. What does the . character normally match? What does it match if re.DOTALL is passed as 2nd argument in re.compile()?\n",
    "Ans) The . character normally matches any character except the newline character. If re.DOTALL is passed as the second argument to re.compile(), then the dot will also match newline characters.\n",
    "\n",
    "\n",
    "### 18. If numReg = re.compile(r'\\d+'), what will numRegex.sub('X', '11 drummers, 10 pipers, five rings, 4 hen') return?\n",
    "Ans)  'X drummers, X pipers, five rings, X hen'\n",
    "\n",
    "\n",
    "### 19. What does passing re.VERBOSE as the 2nd argument to re.compile() allow to do?\n",
    "Ans) The re.VERBOSE argument allows you to add whitespace and comments to the string passed to re.compile().\n",
    "\n",
    "\n",
    "### 20. How would you write a regex that match a number with comma for every three digits? It must match the given following:\n",
    "### '42'\n",
    "### '1,234'\n",
    "### '6,368,745'\n",
    "### but not the following:\n",
    "### '12,34,567' (which has only two digits between the commas)\n",
    "### '1234' (which lacks commas)\n",
    "Ans) r=re.search(r'^\\d{1,3}(,\\d{3})*$','42')\n",
    "\n",
    "### 21. How would you write a regex that matches the full name of someone whose last name is Watanabe? You can assume that the first name that comes before it will always be one word that begins with a capital letter. The regex must match the following:\n",
    "### 'Haruto Watanabe'\n",
    "### 'Alice Watanabe'\n",
    "### 'RoboCop Watanabe'\n",
    "### but not the following:\n",
    "### 'haruto Watanabe' (where the first name is not capitalized)\n",
    "### 'Mr. Watanabe' (where the preceding word has a nonletter character)\n",
    "### 'Watanabe' (which has no first name)\n",
    "### 'Haruto watanabe' (where Watanabe is not capitalized)\n",
    "Ans) r=re.search('^[A-Z][a-z]*\\s{1}(Watanabe)$','Haruto Watanabe')\n",
    "\n",
    "     r=re.search('^[A-Z][A-Za-z]*\\s{1}(Watanabe)$','RoboCop Watanabe')\n",
    "     \n",
    "     \n",
    "     Refer In [49]\n",
    "\n",
    "\n",
    "### 22. How would you write a regex that matches a sentence where the first word is either Alice, Bob, or Carol; the second word is either eats, pets, or throws; the third word is apples, cats, or baseballs; and the sentence ends with a period? This regex should be case-insensitive. It must match the following:\n",
    "### 'Alice eats apples.'\n",
    "### 'Bob pets cats.'\n",
    "### 'Carol throws baseballs.'\n",
    "### 'Alice throws Apples.'\n",
    "### 'BOB EATS CATS.'\n",
    "### but not the following:\n",
    "### 'RoboCop eats apples.'\n",
    "### 'ALICE THROWS FOOTBALLS.'\n",
    "### 'Carol eats 7 cats.'\n",
    "Ans) r=re.search('^(Alice|Bob|Carol)\\s(eats|pets|throws)\\s(apples|cats|baseballs)\\.$','Alice eats apples.',re.I)\n",
    "\n",
    "    print(r)\n",
    "    \n",
    "    Refer In [52]\n"
   ]
  },
  {
   "cell_type": "code",
   "execution_count": 3,
   "metadata": {},
   "outputs": [
    {
     "data": {
      "text/plain": [
       "'X drummers, X pipers, five rings, X hen'"
      ]
     },
     "execution_count": 3,
     "metadata": {},
     "output_type": "execute_result"
    }
   ],
   "source": [
    "import re\n",
    "numRegex = re.compile(r'\\d+')\n",
    "numRegex.sub('X', '11 drummers, 10 pipers, five rings, 4 hen')\n"
   ]
  },
  {
   "cell_type": "code",
   "execution_count": 20,
   "metadata": {},
   "outputs": [
    {
     "name": "stdout",
     "output_type": "stream",
     "text": [
      "<re.Match object; span=(0, 2), match='42'>\n",
      "<re.Match object; span=(0, 5), match='1,234'>\n",
      "<re.Match object; span=(0, 9), match='6,368,745'>\n",
      "<re.Match object; span=(0, 9), match='6,368,745'>\n",
      "None\n",
      "None\n"
     ]
    }
   ],
   "source": [
    "r=re.search(r'^\\d{1,3}(,\\d{3})*$','42')\n",
    "print(r)\n",
    "r=re.search(r'^\\d{1,3}(,\\d{3})*$','1,234')\n",
    "print(r)\n",
    "r=re.search(r'^\\d{1,3}(,\\d{3})*$','6,368,745')\n",
    "print(r)\n",
    "r=re.search(r'^\\d{1,3}(,\\d{3})*$','6,368,745')\n",
    "print(r)\n",
    "r=re.search(r'^\\d{1,3}(,\\d{3})*$','12,34,567')\n",
    "print(r)\n",
    "r=re.search(r'^\\d{1,3}(,\\d{3})*$','1234')\n",
    "print(r)"
   ]
  },
  {
   "cell_type": "code",
   "execution_count": 49,
   "metadata": {},
   "outputs": [
    {
     "name": "stdout",
     "output_type": "stream",
     "text": [
      "<re.Match object; span=(0, 15), match='Haruto Watanabe'>\n",
      "<re.Match object; span=(0, 14), match='Alice Watanabe'>\n",
      "<re.Match object; span=(0, 16), match='RoboCop Watanabe'>\n",
      "None\n",
      "None\n",
      "None\n",
      "None\n"
     ]
    }
   ],
   "source": [
    "r=re.search('^[A-Z][a-z]*\\s{1}(Watanabe)$','Haruto Watanabe')\n",
    "print(r)\n",
    "r=re.search('^[A-Z][a-z]*\\s{1}(Watanabe)$','Alice Watanabe')\n",
    "print(r)\n",
    "r=re.search('^[A-Z][A-Za-z]*\\s{1}(Watanabe)$','RoboCop Watanabe')\n",
    "print(r)\n",
    "r=re.search('^[A-Z][a-z]*\\s{1}(Watanabe)$','haruto Watanabe')\n",
    "print(r)\n",
    "r=re.search('^[A-Z][a-z]*\\s{1}(Watanabe)$','Mr. Watanabe')\n",
    "print(r)\n",
    "r=re.search('^[A-Z][a-z]*\\s{1}(Watanabe)$','Watanabe')\n",
    "print(r)\n",
    "r=re.search('^[A-Z][a-z]*\\s{1}(Watanabe)$','Haruto watanabe')\n",
    "print(r)"
   ]
  },
  {
   "cell_type": "code",
   "execution_count": 63,
   "metadata": {},
   "outputs": [
    {
     "name": "stdout",
     "output_type": "stream",
     "text": [
      "<re.Match object; span=(0, 18), match='Alice eats apples.'>\n",
      "<re.Match object; span=(0, 14), match='Bob pets cats.'>\n",
      "<re.Match object; span=(0, 23), match='Carol throws baseballs.'>\n",
      "<re.Match object; span=(0, 20), match='Alice throws Apples.'>\n",
      "<re.Match object; span=(0, 14), match='BOB EATS CATS.'>\n",
      "None\n",
      "None\n",
      "None\n"
     ]
    }
   ],
   "source": [
    "r=re.search('^(Alice|Bob|Carol)\\s(eats|pets|throws)\\s(apples|cats|baseballs)\\.$','Alice eats apples.',re.I)\n",
    "print(r)\n",
    "r=re.search('^(Alice|Bob|Carol)\\s(eats|pets|throws)\\s(apples|cats|baseballs)\\.$','Bob pets cats.')\n",
    "print(r)\n",
    "r=re.search('^(Alice|Bob|Carol)\\s(eats|pets|throws)\\s(apples|cats|baseballs)\\.$','Carol throws baseballs.')\n",
    "print(r)\n",
    "r=re.search('^(Alice|Bob|Carol)\\s(eats|pets|throws)\\s(apples|cats|baseballs)\\.$','Alice throws Apples.',re.I)\n",
    "print(r)\n",
    "r=re.search('^(Alice|Bob|Carol)\\s(eats|pets|throws)\\s(apples|cats|baseballs)\\.$','BOB EATS CATS.',re.I)\n",
    "print(r)\n",
    "r=re.search('^(Alice|Bob|Carol)\\s(eats|pets|throws)\\s(apples|cats|baseballs)\\.$','RoboCop eats apples.',re.I)\n",
    "print(r)\n",
    "r=re.search('^(Alice|Bob|Carol)\\s(eats|pets|throws)\\s(apples|cats|baseballs)\\.$','ALICE THROWS FOOTBALLS.',re.I)\n",
    "print(r)\n",
    "r=re.search('^(Alice|Bob|Carol)\\s(eats|pets|throws)\\s(apples|cats|baseballs)\\.$','Carol eats 7 cats.',re.I)\n",
    "print(r)"
   ]
  }
 ],
 "metadata": {
  "kernelspec": {
   "display_name": "Python 3",
   "language": "python",
   "name": "python3"
  },
  "language_info": {
   "codemirror_mode": {
    "name": "ipython",
    "version": 3
   },
   "file_extension": ".py",
   "mimetype": "text/x-python",
   "name": "python",
   "nbconvert_exporter": "python",
   "pygments_lexer": "ipython3",
   "version": "3.8.5"
  }
 },
 "nbformat": 4,
 "nbformat_minor": 4
}
