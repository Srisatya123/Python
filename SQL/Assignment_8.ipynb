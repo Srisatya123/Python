{
 "cells": [
  {
   "cell_type": "markdown",
   "metadata": {
    "id": "WDt0roRI2mwt"
   },
   "source": [
    "### Q-15. Write an SQL query to fetch intersecting records of two tables.\n",
    "Ans)\n",
    "Select A.* from WORKER A,WORKER_CLONE B\n",
    "WHERE A.WORKER_ID=B.WORKER_ID;\n",
    "\n",
    "### Q-16. Write an SQL query to show records from one table that another table does not have.\n",
    "Ans) Select * from WORKER A\n",
    "WHERE A.WORKER_ID NOT IN (SELECT WORKER_ID FROM EMPLOYEE);\n",
    "\n"
   ]
  }
 ],
 "metadata": {
  "colab": {
   "collapsed_sections": [],
   "name": "Assignment 8.ipynb",
   "provenance": []
  },
  "kernelspec": {
   "display_name": "Python 3",
   "language": "python",
   "name": "python3"
  },
  "language_info": {
   "codemirror_mode": {
    "name": "ipython",
    "version": 3
   },
   "file_extension": ".py",
   "mimetype": "text/x-python",
   "name": "python",
   "nbconvert_exporter": "python",
   "pygments_lexer": "ipython3",
   "version": "3.8.5"
  }
 },
 "nbformat": 4,
 "nbformat_minor": 1
}
