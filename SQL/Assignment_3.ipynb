{
 "cells": [
  {
   "cell_type": "markdown",
   "metadata": {
    "id": "b9NtLu2V1yGo"
   },
   "source": [
    "### Q-1. Write an SQL query to print the FIRST_NAME from Worker table after removing white spaces from the right side.\n",
    "Ans) select rtrim(FIRST_NAME) from Worker;\n",
    "\n",
    "### Q-2. Write an SQL query that fetches the unique values of DEPARTMENT from Worker table and prints its length.\n",
    "Ans) select distinct DEPARTMENT, LENGTH(DEPARTMENT) from Worker; \n",
    "\n",
    "### Q-3. Write an SQL query to fetch nth max salaries from a table.\n",
    "Ans) SELECT first_name,salary from worker e1 where n-1 = (SELECT COUNT(DISTINCT salary)from worker e2 where e2.salary > e1.salary);\n",
    "\n"
   ]
  }
 ],
 "metadata": {
  "colab": {
   "collapsed_sections": [],
   "name": "Assignment 3.ipynb",
   "provenance": []
  },
  "kernelspec": {
   "display_name": "Python 3",
   "language": "python",
   "name": "python3"
  },
  "language_info": {
   "codemirror_mode": {
    "name": "ipython",
    "version": 3
   },
   "file_extension": ".py",
   "mimetype": "text/x-python",
   "name": "python",
   "nbconvert_exporter": "python",
   "pygments_lexer": "ipython3",
   "version": "3.8.5"
  }
 },
 "nbformat": 4,
 "nbformat_minor": 1
}
