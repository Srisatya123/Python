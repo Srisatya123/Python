{
 "cells": [
  {
   "cell_type": "markdown",
   "metadata": {
    "id": "uDGGIWTH0zXS"
   },
   "source": [
    "### Q-1. Write an SQL query to print the first three characters of  FIRST_NAME from Worker table.\n",
    "Ans) SELECT substr(FIRST_NAME,1,3) FROM worker;\n",
    "\n",
    "### Q-2. Write an SQL query to find the position of the alphabet (‘a’) in the first name column ‘Amitabh’ from Worker table.\n",
    "Ans) select instr(first_name,BINARY’a’) from Worker where first_name =‘Amitabh’ ;\n",
    "\n",
    "### Q-3. Write an SQL query to print the name of employees having the highest salary in each department.\n",
    "Ans) select name, salary from employee where (department,salary ) in (select department, max(salary) from employee Group by department);\n"
   ]
  }
 ],
 "metadata": {
  "colab": {
   "collapsed_sections": [],
   "name": "Assignment 2.ipynb",
   "provenance": []
  },
  "kernelspec": {
   "display_name": "Python 3",
   "language": "python",
   "name": "python3"
  },
  "language_info": {
   "codemirror_mode": {
    "name": "ipython",
    "version": 3
   },
   "file_extension": ".py",
   "mimetype": "text/x-python",
   "name": "python",
   "nbconvert_exporter": "python",
   "pygments_lexer": "ipython3",
   "version": "3.8.5"
  }
 },
 "nbformat": 4,
 "nbformat_minor": 1
}
