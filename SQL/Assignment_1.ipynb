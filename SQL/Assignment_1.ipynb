{
 "cells": [
  {
   "cell_type": "markdown",
   "metadata": {
    "id": "pM-mjOwpz16P"
   },
   "source": [
    "### Q-1. Write an SQL query to fetch “FIRST_NAME” from Worker table using the alias name as <WORKER_NAME>.\n",
    "Ans) select FIRST_NAME as WORKER_NAME from Worker;\n",
    "\n",
    "### Q-2. Write an SQL query to fetch unique values of DEPARTMENT from Worker table.\n",
    "Ans) select distinct DEPARTMENT from Worker;\n",
    "\n",
    "### Q-3. Write an SQL query to show the last 5 record from a table.\n",
    "Ans) \n",
    "(SELECT * FROM Employee ORDER BY ID DESC LIMIT 5) ORDER BY ID ASC;\n",
    "\n",
    "OR\n",
    "\n",
    "SELECT * FROM Employee WHERE id > (SELECT max(id)-5 from employee)\n"
   ]
  }
 ],
 "metadata": {
  "colab": {
   "collapsed_sections": [],
   "name": "Assignment 1.ipynb",
   "provenance": []
  },
  "kernelspec": {
   "display_name": "Python 3",
   "language": "python",
   "name": "python3"
  },
  "language_info": {
   "codemirror_mode": {
    "name": "ipython",
    "version": 3
   },
   "file_extension": ".py",
   "mimetype": "text/x-python",
   "name": "python",
   "nbconvert_exporter": "python",
   "pygments_lexer": "ipython3",
   "version": "3.8.5"
  }
 },
 "nbformat": 4,
 "nbformat_minor": 1
}
