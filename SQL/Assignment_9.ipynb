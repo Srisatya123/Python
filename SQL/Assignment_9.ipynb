{
 "cells": [
  {
   "cell_type": "markdown",
   "metadata": {
    "id": "LWgCAn0X3VZQ"
   },
   "source": [
    "### Q-17.  Write an SQL query to show the top n (say 10) records of a table.\n",
    "Ans)\n",
    "SELECT * FROM WORKER ORDER BY SALARY DESC LIMIT 10;\n",
    "\n",
    "\n",
    "### Q-18. Write an SQL query to determine the nth (say n=5) highest salary from a table.\n",
    "Ans) \n",
    "SELECT salary from worker e1 where 5-1 = (SELECT COUNT(DISTINCT salary)from worker e2 where e2.salary > e1.salary);\n"
   ]
  }
 ],
 "metadata": {
  "colab": {
   "collapsed_sections": [],
   "name": "Assignment 9.ipynb",
   "provenance": []
  },
  "kernelspec": {
   "display_name": "Python 3",
   "language": "python",
   "name": "python3"
  },
  "language_info": {
   "codemirror_mode": {
    "name": "ipython",
    "version": 3
   },
   "file_extension": ".py",
   "mimetype": "text/x-python",
   "name": "python",
   "nbconvert_exporter": "python",
   "pygments_lexer": "ipython3",
   "version": "3.8.5"
  }
 },
 "nbformat": 4,
 "nbformat_minor": 1
}
