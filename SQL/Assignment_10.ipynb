{
 "cells": [
  {
   "cell_type": "markdown",
   "metadata": {
    "id": "NApFc8no3iIv"
   },
   "source": [
    "### Q-19. Write an SQL query to determine the 5th highest salary without using TOP or limit method.\n",
    "Ans) SELECT ename,salary from Employee e1 where 4 = (SELECT COUNT(DISTINCT salary)from Employee e2 where e2.salary > e1.salary);\n",
    "\n",
    "### Q-20. Write an SQL query to fetch the list of employees with the same salary.\n",
    "Ans) SELECT W1.* FROM WORKER W1,WORKER W2\n",
    "WHERE W1.SALARY=W2.SALARY\n",
    "AND W1.WORKER_ID!=W2.WORKER_ID;\n"
   ]
  }
 ],
 "metadata": {
  "colab": {
   "collapsed_sections": [],
   "name": "Assignment 10.ipynb",
   "provenance": []
  },
  "kernelspec": {
   "display_name": "Python 3",
   "language": "python",
   "name": "python3"
  },
  "language_info": {
   "codemirror_mode": {
    "name": "ipython",
    "version": 3
   },
   "file_extension": ".py",
   "mimetype": "text/x-python",
   "name": "python",
   "nbconvert_exporter": "python",
   "pygments_lexer": "ipython3",
   "version": "3.8.5"
  }
 },
 "nbformat": 4,
 "nbformat_minor": 1
}
