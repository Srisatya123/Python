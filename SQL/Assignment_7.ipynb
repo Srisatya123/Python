{
 "cells": [
  {
   "cell_type": "markdown",
   "metadata": {
    "id": "rgCC8flN2dpu"
   },
   "source": [
    "### Q-13. Write an SQL query to show only odd rows from a table.\n",
    "Ans) select * from Worker where MOD(worker_id,2)<>0;\n",
    "\n",
    "### Q-14. Write an SQL query to clone a new table from another table.\n",
    "Ans) \n",
    "CREATE TABLE WORKER_CLONE LIKE WORKER;\n",
    "INSERT INTO WORKER_CLONE SELECT * FROM WORKER;\n",
    "\n"
   ]
  }
 ],
 "metadata": {
  "colab": {
   "collapsed_sections": [],
   "name": "Assignment 7.ipynb",
   "provenance": []
  },
  "kernelspec": {
   "display_name": "Python 3",
   "language": "python",
   "name": "python3"
  },
  "language_info": {
   "codemirror_mode": {
    "name": "ipython",
    "version": 3
   },
   "file_extension": ".py",
   "mimetype": "text/x-python",
   "name": "python",
   "nbconvert_exporter": "python",
   "pygments_lexer": "ipython3",
   "version": "3.8.5"
  }
 },
 "nbformat": 4,
 "nbformat_minor": 1
}
