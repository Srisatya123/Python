{
 "cells": [
  {
   "cell_type": "markdown",
   "metadata": {
    "id": "0E4v8Vpq2TXR"
   },
   "source": [
    "### Q-1. Write an SQL query to print details of the Workers who have joined in Feb’2014.\n",
    "Ans) select * from worker where year(JOINING_DATE)= 2014 and month(JOINING_DATE)=2;\n",
    "\n",
    "### Q-2. Write an SQL query to fetch duplicate records having matching data in some fields of a table.\n",
    "Ans) select FIRST_NAME , SALARY,COUNT(\\*) from Worker group by FIRST_NAME, SALARY having count(\\*)>1;\n",
    "\n",
    "### Q-3. How to remove duplicate rows from Employees table.\n",
    "Ans) \n",
    "WITH CTE(worker_id,     first_name, \n",
    "    last_name, \n",
    "    department,\n",
    "    DuplicateCount) \n",
    "    \n",
    "AS (SELECT worker_id, \n",
    "    first_name, \n",
    "    last_name, \n",
    "    department,\n",
    "    ROW_NUMBER() OVER(PARTITION BY worker_id,first_name, last_name,department,salary ORDER BY worker_id) AS DuplicateCount\n",
    "    FROM worker)\n",
    "    \n",
    "delete  FROM worker where worker_id in (select worker_id from cte where  DuplicateCount > 1);\n",
    "\n",
    "\n",
    "\n"
   ]
  }
 ],
 "metadata": {
  "colab": {
   "collapsed_sections": [],
   "name": "Assignment 6.ipynb",
   "provenance": []
  },
  "kernelspec": {
   "display_name": "Python 3",
   "language": "python",
   "name": "python3"
  },
  "language_info": {
   "codemirror_mode": {
    "name": "ipython",
    "version": 3
   },
   "file_extension": ".py",
   "mimetype": "text/x-python",
   "name": "python",
   "nbconvert_exporter": "python",
   "pygments_lexer": "ipython3",
   "version": "3.8.5"
  }
 },
 "nbformat": 4,
 "nbformat_minor": 1
}
