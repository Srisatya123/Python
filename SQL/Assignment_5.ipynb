{
 "cells": [
  {
   "cell_type": "markdown",
   "metadata": {
    "id": "Aa3GliKO2H8u"
   },
   "source": [
    "### Q-1. Write an SQL query to print details of workers excluding first names, “Vipul” and “Satish” from Worker table.\n",
    "Ans) select * from worker where first_name not in (\"Vipul\" ,\"Satish\");\n",
    "\n",
    "### Q-2. Write an SQL query to print details of the Workers whose FIRST_NAME ends with ‘h’ and contains six alphabets.\n",
    "Ans) select * from worker where first_name like '______h';\n",
    "\n",
    "### Q-3. Write a query to validate Email of Employee.\n",
    "Ans) select * from employee where email NOT like '%@%.%'\n",
    "\n"
   ]
  }
 ],
 "metadata": {
  "colab": {
   "collapsed_sections": [],
   "name": "Assignment 5.ipynb",
   "provenance": []
  },
  "kernelspec": {
   "display_name": "Python 3",
   "language": "python",
   "name": "python3"
  },
  "language_info": {
   "codemirror_mode": {
    "name": "ipython",
    "version": 3
   },
   "file_extension": ".py",
   "mimetype": "text/x-python",
   "name": "python",
   "nbconvert_exporter": "python",
   "pygments_lexer": "ipython3",
   "version": "3.8.5"
  }
 },
 "nbformat": 4,
 "nbformat_minor": 1
}
