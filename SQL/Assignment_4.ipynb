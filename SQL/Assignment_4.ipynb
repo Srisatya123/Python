{
 "cells": [
  {
   "cell_type": "markdown",
   "metadata": {
    "id": "X0DUCAIA19y-"
   },
   "source": [
    "### Q-1. Write an SQL query to print the FIRST_NAME from Worker table after replacing ‘a’ with ‘A’.\n",
    "Ans) select replace(FIRST_NAME,'a','A') from worker;\n",
    "\n",
    "### Q-2. Write an SQL query to print all Worker details from the Worker table order by FIRST_NAME Ascending and DEPARTMENT Descending.\n",
    "Ans) select * from Worker order by FIRST_NAME ASC, DEPARTMENT DESC;\n",
    "\n",
    "### Q-3. Write an SQL query to fetch the names of workers who earn the highest salary.\n",
    "Ans) select first_name from worker where salary=(Select max(salary) from worker);\n",
    "\n",
    "\n"
   ]
  }
 ],
 "metadata": {
  "colab": {
   "collapsed_sections": [],
   "name": "Assignment 4.ipynb",
   "provenance": []
  },
  "kernelspec": {
   "display_name": "Python 3",
   "language": "python",
   "name": "python3"
  },
  "language_info": {
   "codemirror_mode": {
    "name": "ipython",
    "version": 3
   },
   "file_extension": ".py",
   "mimetype": "text/x-python",
   "name": "python",
   "nbconvert_exporter": "python",
   "pygments_lexer": "ipython3",
   "version": "3.8.5"
  }
 },
 "nbformat": 4,
 "nbformat_minor": 1
}
