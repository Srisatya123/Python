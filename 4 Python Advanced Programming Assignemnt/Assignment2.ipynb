{
  "nbformat": 4,
  "nbformat_minor": 0,
  "metadata": {
    "colab": {
      "name": "Assignment2.ipynb",
      "provenance": [],
      "collapsed_sections": []
    },
    "kernelspec": {
      "name": "python3",
      "display_name": "Python 3"
    },
    "language_info": {
      "name": "python"
    }
  },
  "cells": [
    {
      "cell_type": "markdown",
      "metadata": {
        "id": "WxO42NLagw9r"
      },
      "source": [
        "1. Write a function that takes a positive integer num and calculates how many dots exist in a pentagonal shape around the center dot on the Nth iteration.\n",
        "\n",
        "In the image below you can see the first iteration is only a single dot. On the second, there are 6 dots. On the third, there are 16 dots, and on the fourth there are 31 dots.\n",
        "\n",
        "\n",
        "\n",
        "\n",
        "\n",
        "\n",
        "\n",
        "\n",
        "Return the number of dots that exist in the whole pentagon on the Nth iteration.\n",
        "\n",
        "Examples\n",
        "\n",
        "pentagonal(1) ➞ 1\n",
        "\n",
        "pentagonal(2) ➞ 6\n",
        "\n",
        "pentagonal(3) ➞ 16\n",
        "\n",
        "pentagonal(8) ➞ 141\n"
      ]
    },
    {
      "cell_type": "code",
      "metadata": {
        "colab": {
          "base_uri": "https://localhost:8080/"
        },
        "id": "COm9qk-LiGI9",
        "outputId": "4e894157-772e-4074-8c74-d2ab4b2e6488"
      },
      "source": [
        "def pentagonal(n):\n",
        "  if n<1:\n",
        "    res=0\n",
        "  elif n==1:\n",
        "    res=1\n",
        "  else:\n",
        "    res= (5*(n-1))+pentagonal(n-1)\n",
        "    \n",
        "  return res \n",
        "  \n",
        "print(pentagonal(1))\n",
        "print(pentagonal(2))\n",
        "print(pentagonal(3))\n",
        "print(pentagonal(8))\n"
      ],
      "execution_count": null,
      "outputs": [
        {
          "output_type": "stream",
          "text": [
            "1\n",
            "6\n",
            "16\n",
            "141\n"
          ],
          "name": "stdout"
        }
      ]
    },
    {
      "cell_type": "markdown",
      "metadata": {
        "id": "MwNh2MpigxAo"
      },
      "source": [
        "2.  Make a function that encrypts a given input with these steps:\n",
        "\n",
        "Input: \"apple\"\n",
        "\n",
        "Step 1: Reverse the input: \"elppa\"\n",
        "\n",
        "Step 2: Replace all vowels using the following chart:\n",
        "\n",
        "a => 0\n",
        "e => 1\n",
        "i => 2\n",
        "o => 2\n",
        "u => 3\n",
        "\n",
        "'# \"1lpp0\"\n",
        "\n",
        "Step 3: Add \"aca\" to the end of the word: \"1lpp0aca\"\n",
        "\n",
        "Output: \"1lpp0aca\"\n",
        "\n",
        "Examples\n",
        "\n",
        "encrypt(\"banana\") ➞ \"0n0n0baca\"\n",
        "\n",
        "encrypt(\"karaca\") ➞ \"0c0r0kaca\"\n",
        "\n",
        "encrypt(\"burak\") ➞ \"k0r3baca\"\n",
        "\n",
        "encrypt(\"alpaca\") ➞ \"0c0pl0aca\"\n"
      ]
    },
    {
      "cell_type": "code",
      "metadata": {
        "colab": {
          "base_uri": "https://localhost:8080/"
        },
        "id": "RN-Ehv9MjhBh",
        "outputId": "ec70ee7b-e0fc-4a6e-dc98-6f4c2a4db580"
      },
      "source": [
        "  \n",
        "def encrypt(s):\n",
        "  dict = {\"a\": \"0\", \"e\": \"1\",\"i\": \"2\", \"o\": \"2\",\"u\": \"3\"}\n",
        "\n",
        "  rev = s.lower()[::-1]\n",
        "  for i in dict:\n",
        "      rev = rev.replace(i, dict[i])\n",
        "  return f\"{rev}aca\"\n",
        "\n",
        "print(encrypt(\"banana\"))\n",
        "print(encrypt(\"karaca\"))\n",
        "print(encrypt(\"burak\"))\n",
        "print(encrypt(\"alpaca\"))"
      ],
      "execution_count": null,
      "outputs": [
        {
          "output_type": "stream",
          "text": [
            "0n0n0baca\n",
            "0c0r0kaca\n",
            "k0r3baca\n",
            "0c0pl0aca\n"
          ],
          "name": "stdout"
        }
      ]
    },
    {
      "cell_type": "markdown",
      "metadata": {
        "id": "guu5L570gxG4"
      },
      "source": [
        "3. Given the month and year as numbers, return whether that month contains a Friday 13th.(i.e You can check Python's datetime module)\n",
        "\n",
        "Examples\n",
        "\n",
        "has_friday_13(3, 2020) ➞ True\n",
        "\n",
        "has_friday_13(10, 2017) ➞ True\n",
        "\n",
        "has_friday_13(1, 1985) ➞ False\n"
      ]
    },
    {
      "cell_type": "code",
      "metadata": {
        "colab": {
          "base_uri": "https://localhost:8080/"
        },
        "id": "jG47ok20kr3k",
        "outputId": "a1d77c47-8ef9-4c6c-dbe6-57c01bd7e7f9"
      },
      "source": [
        "import datetime  \n",
        "\n",
        "def has_friday_13(month,year):\n",
        "\n",
        "  if datetime.datetime.strptime('13 '+' '+str(month)+' '+str(year), '%d %m %Y').weekday()==4 :\n",
        "    return True\n",
        "  else:\n",
        "    return False\n",
        "\n",
        "print(has_friday_13(3, 2020))\n",
        "print(has_friday_13(10, 2017))\n",
        "print(has_friday_13(1, 1985))"
      ],
      "execution_count": null,
      "outputs": [
        {
          "output_type": "stream",
          "text": [
            "True\n",
            "True\n",
            "False\n"
          ],
          "name": "stdout"
        }
      ]
    },
    {
      "cell_type": "code",
      "metadata": {
        "colab": {
          "base_uri": "https://localhost:8080/"
        },
        "id": "eQm7gab5mPd1",
        "outputId": "d0455926-8bdc-4387-fa56-3afe105ff207"
      },
      "source": [
        "datetime.datetime.strptime('13-07-2021', '%d-%m-%Y').weekday()"
      ],
      "execution_count": null,
      "outputs": [
        {
          "output_type": "execute_result",
          "data": {
            "text/plain": [
              "1"
            ]
          },
          "metadata": {
            "tags": []
          },
          "execution_count": 24
        }
      ]
    },
    {
      "cell_type": "markdown",
      "metadata": {
        "id": "VZXcKXkTgxJr"
      },
      "source": [
        "4. Write a regular expression that will help us count how many bad cookies are produced every day. You must use RegEx negative lookbehind.\n",
        "\n",
        "Example\n",
        "\n",
        "lst = [\"bad cookie\", \"good cookie\", \"bad cookie\", \"good cookie\", \"good cookie\"]\n",
        "pattern = \"yourregularexpressionhere\"\n",
        "\n",
        "len(re.findall(pattern, \", \".join(lst))) ➞ 2\n"
      ]
    },
    {
      "cell_type": "code",
      "metadata": {
        "colab": {
          "base_uri": "https://localhost:8080/"
        },
        "id": "HrEE0ziAmrDr",
        "outputId": "d1a18370-1303-4e38-eafb-6694f9da863d"
      },
      "source": [
        "import re\n",
        "lst = [\"bad cookie\", \"good cookie\", \"bad cookie\", \"good cookie\", \"good cookie\"] \n",
        "pattern = \"(?=good )cookie\"\n",
        "l=\", \".join(lst)\n",
        "print(l)\n",
        "len(re.findall(pattern, \", \".join(lst)))  "
      ],
      "execution_count": null,
      "outputs": [
        {
          "output_type": "stream",
          "text": [
            "bad cookie, good cookie, bad cookie, good cookie, good cookie\n"
          ],
          "name": "stdout"
        },
        {
          "output_type": "execute_result",
          "data": {
            "text/plain": [
              "0"
            ]
          },
          "metadata": {
            "tags": []
          },
          "execution_count": 32
        }
      ]
    },
    {
      "cell_type": "markdown",
      "metadata": {
        "id": "NdxnrFpmgxMU"
      },
      "source": [
        "5. Given a list of words in the singular form, return a set of those words in the plural form if they appear more than once in the list.\n",
        "\n",
        "Examples\n",
        "\n",
        "pluralize([\"cow\", \"pig\", \"cow\", \"cow\"]) ➞ { \"cows\", \"pig\" }\n",
        "\n",
        "pluralize([\"table\", \"table\", \"table\"]) ➞ { \"tables\" }\n",
        "\n",
        "pluralize([\"chair\", \"pencil\", \"arm\"]) ➞ { \"chair\", \"pencil\", \"arm\" }\n"
      ]
    },
    {
      "cell_type": "code",
      "metadata": {
        "colab": {
          "base_uri": "https://localhost:8080/"
        },
        "id": "YK1ibHJn2CHr",
        "outputId": "a0e36d9f-b8e6-4851-a4e3-6b3e62305fff"
      },
      "source": [
        "l=[\"cow\", \"pig\", \"cow\", \"cow\"]\n",
        "l.count('cow')"
      ],
      "execution_count": null,
      "outputs": [
        {
          "output_type": "execute_result",
          "data": {
            "text/plain": [
              "3"
            ]
          },
          "metadata": {
            "tags": []
          },
          "execution_count": 2
        }
      ]
    },
    {
      "cell_type": "code",
      "metadata": {
        "colab": {
          "base_uri": "https://localhost:8080/"
        },
        "id": "9rLsshxGpyUs",
        "outputId": "5c542588-71ce-4128-cf22-9f600d49e35c"
      },
      "source": [
        "def pluralize(l):\n",
        "\n",
        "  l1=[i+'s' if l.count(i)>1 else i for i in l] \n",
        "  return list(set(l1))\n",
        "\n",
        "print(pluralize([\"cow\", \"pig\", \"cow\", \"cow\"]))\n",
        "print(pluralize([\"table\", \"table\", \"table\"]))\n",
        "print(pluralize([\"chair\", \"pencil\", \"arm\"]))"
      ],
      "execution_count": null,
      "outputs": [
        {
          "output_type": "stream",
          "text": [
            "['pig', 'cows']\n",
            "['tables']\n",
            "['chair', 'arm', 'pencil']\n"
          ],
          "name": "stdout"
        }
      ]
    },
    {
      "cell_type": "markdown",
      "metadata": {
        "id": "nsnmZG78gxO6"
      },
      "source": [
        ""
      ]
    }
  ]
}