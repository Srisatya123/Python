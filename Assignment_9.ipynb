{
 "cells": [
  {
   "cell_type": "markdown",
   "metadata": {},
   "source": [
    "### 1. To what does a relative path refer?\n",
    "Ans) Relative paths refers to the current working directory.\n",
    "\n",
    "\n",
    "### 2. What does an absolute path start with your operating system?\n",
    "Ans) Absolute paths start with the root folder, such as /\n",
    "\n",
    "\n",
    "### 3. What do the functions os.getcwd() and os.chdir() do?\n",
    "Ans) The os.getcwd() function returns the current working directory. \n",
    "\n",
    "     The os.chdir() function changes the current working directory to the given directory.\n",
    "\n",
    "\n",
    "### 4. What are the . and .. folders?\n",
    "Ans) The . folder is the current folder, and .. is the parent folder.\n",
    "\n",
    "\n",
    "### 5. In C:\\bacon\\eggs\\spam.txt, which part is the dir name, and which part is the base name?\n",
    "Ans) Dir name is  C:\\bacon\\eggs\n",
    "    \n",
    "     And spam.txt is the base name.\n",
    "\n",
    "\n",
    "### 6. What are the three “mode” arguments that can be passed to the open() function?\n",
    "Ans) Following are the 3 differendt modes used in open function\n",
    "        \n",
    "     r is used for read mode\n",
    "    \n",
    "     w is used for write mode and \n",
    "        \n",
    "     a used for append mode.   \n",
    "\n",
    "\n",
    "### 7. What happens if an existing file is opened in write mode?\n",
    "Ans) if an existing file is opened in write mode then the data is completly erased/deleted and overwritten with the new data.\n",
    "\n",
    "\n",
    "### 8. How do you tell the difference between read() and readlines()?\n",
    "Ans) The read() method is used for writing the entire data as a single string value. \n",
    "\n",
    "     The readlines() method is used for to write the data as list of strings, where each string is a line from the file content.\n",
    "\n",
    "\n",
    "### 9. What data structure does a shelf value resemble?\n",
    "Ans) A shelf value resembles a dictionary value; it has keys and values, along with keys() and values() methods that work similarly to the dictionary methods of the same names."
   ]
  }
 ],
 "metadata": {
  "kernelspec": {
   "display_name": "Python 3",
   "language": "python",
   "name": "python3"
  },
  "language_info": {
   "codemirror_mode": {
    "name": "ipython",
    "version": 3
   },
   "file_extension": ".py",
   "mimetype": "text/x-python",
   "name": "python",
   "nbconvert_exporter": "python",
   "pygments_lexer": "ipython3",
   "version": "3.8.5"
  }
 },
 "nbformat": 4,
 "nbformat_minor": 4
}
