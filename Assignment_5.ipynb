{
 "cells": [
  {
   "cell_type": "markdown",
   "metadata": {},
   "source": [
    "### 1. What does an empty dictionary's code look like?\n",
    "Ans) d={}\n",
    "\n",
    "\n",
    "### 2. What is the value of a dictionary value with the key 'foo' and the value 42?\n",
    "Ans) d1={'foo':42}\n",
    "\n",
    "\n",
    "### 3. What is the most significant distinction between a dictionary and a list?\n",
    "Ans) List :\n",
    "\n",
    "        1) List is created by placing elements in [ ] seperated by commas “, “.\n",
    "        \n",
    "        2) The indices of list are integers starting from 0.\n",
    "        \n",
    "        3) The elements are accessed via indices.\n",
    "        \n",
    "        4) The order of the elements entered are maintained.\n",
    "        \n",
    "      Dictionary:\n",
    "      \n",
    "        1) Dictionary is created by placing elements in {} as “key”:”value”, each key value pair is seperated by commas “,”.\n",
    "        \n",
    "        2) The keys of dictionary can be of any data type.\n",
    "        \n",
    "        3) The elements are accessed via key-values.\n",
    "        \n",
    "        4) There is no guarantee for maintaining order.\n",
    "\n",
    "\n",
    "### 4. What happens if you try to access spam['foo'] if spam is {'bar': 100}?\n",
    "Ans) KeyError: 'foo'\n",
    "\n",
    "\n",
    "### 5. If a dictionary is stored in spam, what is the difference between the expressions 'cat' in spam and 'cat' in spam.keys()?\n",
    "Ans) Both are same and both returns True\n",
    "\n",
    "\n",
    "### 6. If a dictionary is stored in spam, what is the difference between the expressions 'cat' in spam and 'cat' in spam.values()?\n",
    "Ans) Both are different. First one returns True but secone one returns False.\n",
    "\n",
    "\n",
    "### 7. What is a shortcut for the following code?\n",
    "###if 'color' not in spam:\n",
    "spam['color'] = 'black'\n",
    "\n",
    "Ans) spam.setdefault('color','black)\n",
    "\n",
    "### 8. How do you \"pretty print\" dictionary values using which module and function?\n",
    "Ans) pprint.pprint()\n",
    "\n"
   ]
  },
  {
   "cell_type": "code",
   "execution_count": null,
   "metadata": {},
   "outputs": [],
   "source": []
  },
  {
   "cell_type": "code",
   "execution_count": 4,
   "metadata": {},
   "outputs": [
    {
     "data": {
      "text/plain": [
       "dict"
      ]
     },
     "execution_count": 4,
     "metadata": {},
     "output_type": "execute_result"
    }
   ],
   "source": [
    "d={}\n",
    "type(d)"
   ]
  },
  {
   "cell_type": "code",
   "execution_count": 7,
   "metadata": {},
   "outputs": [
    {
     "data": {
      "text/plain": [
       "dict"
      ]
     },
     "execution_count": 7,
     "metadata": {},
     "output_type": "execute_result"
    }
   ],
   "source": [
    "d1={'foo':42}\n",
    "type(d1)"
   ]
  },
  {
   "cell_type": "code",
   "execution_count": 11,
   "metadata": {},
   "outputs": [
    {
     "ename": "KeyError",
     "evalue": "'foo'",
     "output_type": "error",
     "traceback": [
      "\u001b[1;31m---------------------------------------------------------------------------\u001b[0m",
      "\u001b[1;31mKeyError\u001b[0m                                  Traceback (most recent call last)",
      "\u001b[1;32m<ipython-input-11-53b1913caf9e>\u001b[0m in \u001b[0;36m<module>\u001b[1;34m\u001b[0m\n\u001b[0;32m      1\u001b[0m \u001b[0mspam\u001b[0m \u001b[1;33m=\u001b[0m\u001b[1;33m{\u001b[0m\u001b[1;34m'bar'\u001b[0m\u001b[1;33m:\u001b[0m \u001b[1;36m100\u001b[0m\u001b[1;33m}\u001b[0m\u001b[1;33m\u001b[0m\u001b[1;33m\u001b[0m\u001b[0m\n\u001b[1;32m----> 2\u001b[1;33m \u001b[0mspam\u001b[0m\u001b[1;33m[\u001b[0m\u001b[1;34m'foo'\u001b[0m\u001b[1;33m]\u001b[0m\u001b[1;33m\u001b[0m\u001b[1;33m\u001b[0m\u001b[0m\n\u001b[0m",
      "\u001b[1;31mKeyError\u001b[0m: 'foo'"
     ]
    }
   ],
   "source": [
    "spam ={'bar': 100}\n",
    "spam['foo']"
   ]
  },
  {
   "cell_type": "code",
   "execution_count": 12,
   "metadata": {},
   "outputs": [
    {
     "data": {
      "text/plain": [
       "{'cat': 1, 'bar': 100}"
      ]
     },
     "execution_count": 12,
     "metadata": {},
     "output_type": "execute_result"
    }
   ],
   "source": [
    "spam1={'cat':1,'bar':100}\n",
    "spam1"
   ]
  },
  {
   "cell_type": "code",
   "execution_count": 18,
   "metadata": {},
   "outputs": [
    {
     "data": {
      "text/plain": [
       "False"
      ]
     },
     "execution_count": 18,
     "metadata": {},
     "output_type": "execute_result"
    }
   ],
   "source": [
    "'cat' in spam1"
   ]
  },
  {
   "cell_type": "code",
   "execution_count": 19,
   "metadata": {},
   "outputs": [
    {
     "data": {
      "text/plain": [
       "True"
      ]
     },
     "execution_count": 19,
     "metadata": {},
     "output_type": "execute_result"
    }
   ],
   "source": [
    "'cat' in spam1.keys()"
   ]
  },
  {
   "cell_type": "code",
   "execution_count": 20,
   "metadata": {},
   "outputs": [
    {
     "data": {
      "text/plain": [
       "False"
      ]
     },
     "execution_count": 20,
     "metadata": {},
     "output_type": "execute_result"
    }
   ],
   "source": [
    "'cat' in spam1.values()"
   ]
  },
  {
   "cell_type": "code",
   "execution_count": 25,
   "metadata": {},
   "outputs": [
    {
     "name": "stdout",
     "output_type": "stream",
     "text": [
      "'Hello pretty printer1'\n",
      "'Hello pretty printer'\n"
     ]
    }
   ],
   "source": [
    "import pprint\n",
    "pprint.pprint(\"Hello pretty printer1\")\n",
    "my_printer = pprint.PrettyPrinter()\n",
    "my_printer.pprint(\"Hello pretty printer\")"
   ]
  },
  {
   "cell_type": "code",
   "execution_count": 26,
   "metadata": {},
   "outputs": [
    {
     "name": "stdout",
     "output_type": "stream",
     "text": [
      "[(3, 5), (7, 5), (4, 3)]\n"
     ]
    }
   ],
   "source": [
    "from pprint import pprint\n",
    "pprint([(3,5),(7,5),(4,3)])"
   ]
  },
  {
   "cell_type": "code",
   "execution_count": 27,
   "metadata": {},
   "outputs": [
    {
     "name": "stdout",
     "output_type": "stream",
     "text": [
      "[(3, 5), (7, 5), (4, 3)]\n"
     ]
    }
   ],
   "source": [
    "print([(3,5),(7,5),(4,3)])"
   ]
  }
 ],
 "metadata": {
  "kernelspec": {
   "display_name": "Python 3",
   "language": "python",
   "name": "python3"
  },
  "language_info": {
   "codemirror_mode": {
    "name": "ipython",
    "version": 3
   },
   "file_extension": ".py",
   "mimetype": "text/x-python",
   "name": "python",
   "nbconvert_exporter": "python",
   "pygments_lexer": "ipython3",
   "version": "3.8.5"
  }
 },
 "nbformat": 4,
 "nbformat_minor": 4
}
