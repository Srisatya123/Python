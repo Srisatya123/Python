{
 "cells": [
  {
   "cell_type": "markdown",
   "metadata": {},
   "source": [
    "### 1. What are escape characters, and how do you use them?\n",
    "Ans) In Python strings, the backslash \"\\\" is  \"escape\" character. It is used in representing certain whitespace characters:      \"\\t\" is a tab, \n",
    "\n",
    "     \"\\n\" is a newline, \n",
    "\n",
    "     and \"\\r\" is a carriage return. \n",
    "\n",
    "     Conversely, prefixing a special character with \"\\\" turns it into an ordinary character.\n",
    "\n",
    "### 2. What do the escape characters n and t stand for?\n",
    "Ans) \"\\t\" is a tab, \n",
    "\n",
    "     \"\\n\" is a newline\n",
    "\n",
    "### 3. What is the way to include backslash characters in a string?\n",
    "Ans) Need to use the syntax \"\\\\\" within the string literal to represent a single backslash.\n",
    "\n",
    "     Ex: txt = \"This will insert one \\\\ (backslash).\"\n",
    "\n",
    "### 4. The string \"Howl's Moving Castle\" is a correct value. Why isn't the single quote character in the word Howl's not escaped a problem?\n",
    "Ans) As this string is enclosed in with double quotes \" \", this single quote is not a problem.\n",
    "\n",
    "### 5. How do you write a string of newlines if you don't want to use the n character?\n",
    "Ans) Multiline strings allow you to use newlines in strings without the \\n escape character.\n",
    "\n",
    "### 6. What are the values of the given expressions?\n",
    "'Hello, world!'[1]\n",
    "'Hello, world!'[0:5]\n",
    "'Hello, world!'[:5]\n",
    "'Hello, world!'[3:]\n",
    "\n",
    "Ans) 'e'\n",
    "\n",
    "     'Hello'\n",
    "     \n",
    "     'Hello' \n",
    "     \n",
    "     'lo world!\n",
    "     \n",
    "\n",
    "### 7. What are the values of the following expressions?\n",
    "### 'Hello'.upper()\n",
    "### 'Hello'.upper().isupper()\n",
    "### 'Hello'.upper().lower()\n",
    "\n",
    "Ans) 'HELLO'\n",
    "\n",
    "      True\n",
    "      \n",
    "     'hello'\n",
    "\n",
    "### 8. What are the values of the following expressions?\n",
    "### 'Remember, remember, the fifth of July.'.split()\n",
    "### '-'.join('There can only one.'.split())\n",
    "\n",
    "Ans) ['Remember,', 'remember,', 'the', 'fifth', 'of', 'July.']\n",
    "\n",
    "    'There-can-only-one.'\n",
    "\n",
    "### 9. What are the methods for right-justifying, left-justifying, and centering a string?\n",
    "Ans) rjust()\n",
    "\n",
    "     ljust()\n",
    "     \n",
    "     center()\n",
    "\n",
    "### 10. What is the best way to remove whitespace characters from the start or end?\n",
    "Ans) Python String methods lstrip() and rstrip methods will remove whotespaces from left and right side of the strings respectively.\n"
   ]
  },
  {
   "cell_type": "code",
   "execution_count": null,
   "metadata": {},
   "outputs": [],
   "source": []
  },
  {
   "cell_type": "code",
   "execution_count": 3,
   "metadata": {},
   "outputs": [
    {
     "name": "stdout",
     "output_type": "stream",
     "text": [
      "Howl's Moving Castle\n"
     ]
    }
   ],
   "source": [
    "t=\"Howl's Moving Castle\"\n",
    "print(t)"
   ]
  },
  {
   "cell_type": "code",
   "execution_count": 14,
   "metadata": {},
   "outputs": [
    {
     "data": {
      "text/plain": [
       "['Remember,', 'remember,', 'the', 'fifth', 'of', 'July.']"
      ]
     },
     "execution_count": 14,
     "metadata": {},
     "output_type": "execute_result"
    }
   ],
   "source": [
    "'Remember, remember, the fifth of July.'.split()\n"
   ]
  },
  {
   "cell_type": "code",
   "execution_count": 13,
   "metadata": {},
   "outputs": [
    {
     "data": {
      "text/plain": [
       "'There-can-only-one.'"
      ]
     },
     "execution_count": 13,
     "metadata": {},
     "output_type": "execute_result"
    }
   ],
   "source": [
    "'-'.join('There can only one.'.split())"
   ]
  }
 ],
 "metadata": {
  "kernelspec": {
   "display_name": "Python 3",
   "language": "python",
   "name": "python3"
  },
  "language_info": {
   "codemirror_mode": {
    "name": "ipython",
    "version": 3
   },
   "file_extension": ".py",
   "mimetype": "text/x-python",
   "name": "python",
   "nbconvert_exporter": "python",
   "pygments_lexer": "ipython3",
   "version": "3.8.5"
  }
 },
 "nbformat": 4,
 "nbformat_minor": 4
}
