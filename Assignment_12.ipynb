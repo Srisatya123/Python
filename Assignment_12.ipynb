{
 "cells": [
  {
   "cell_type": "markdown",
   "metadata": {},
   "source": [
    "### 1. In what modes should the PdfFileReader() and PdfFileWriter() File objects will be opened?\n",
    "Ans) For PdfFileReader() Read-binary ('rb')\n",
    "    and for PdfFileWriter() write-binary ('wb') \n",
    "\n",
    "\n",
    "### 2. From a PdfFileReader object, how do you get a Page object for page 5?\n",
    "Ans) Using getPage() method on a PdfFileReader object. To get the 5th page need to pass 4 as parameter, since page 0 is the first page.  getPage(4).\n",
    "\n",
    "\n",
    "### 3. What PdfFileReader variable stores the number of pages in the PDF document?\n",
    "Ans) The numPages attribute of PdfFileReader  objcet stors the number of pages in the PDF document.\n",
    "\n",
    "\n",
    "### 4. If a PdfFileReader object’s PDF is encrypted with the password swordfish, what must you do before you can obtain Page objects from it?\n",
    "Ans) if hte PDF is encrypeted with the password swordfish, then using the code pdfReader.decrypt('swordfish').\n",
    "\n",
    "\n",
    "### 5. What methods do you use to rotate a page?\n",
    "Ans) The rotateClockwise() and rotateCounterClockwise() methods are used to rotate in 90-degree increments.\n",
    "\n",
    "\n",
    "### 6. What is the difference between a Run object and a Paragraph object?\n",
    "Ans) A Run object is a contiguous run of text with the same style. A new Run object is needed whenever the text style changes. The Document object contains a list of Paragraph objects for the paragraphs in the document. \n",
    "\n",
    "\n",
    "### 7. How do you obtain a list of Paragraph objects for a Document object that’s stored in a variable named doc?\n",
    "Ans) len(doc.paragraphs). Here the attribute 'paragraphs' stotres the list of Paragraph objects.\n",
    "\n",
    "\n",
    "### 8. What type of object has bold, underline, italic, strike, and outline variables?\n",
    "Ans)  Run object has these variables\n",
    "\n",
    "\n",
    "### 9. What is the difference between False, True, and None for the bold variable?\n",
    "Ans) True for Bolded, False for not bolded and None will make the Run object just use the style’s bold setting.\n",
    "        \n",
    "\n",
    "\n",
    "### 10. How do you create a Document object for a new Word document?\n",
    "Ans) by calling the docx.Document() function.\n",
    "\n",
    "\n",
    "### 11. How do you add a paragraph with the text 'Hello, there!' to a Document object stored in a variable named doc?\n",
    "Ans) doc.add_paragraph('Hello, there!')\n",
    "\n",
    "\n",
    "### 12. What integers represent the levels of headings available in Word documents?\n",
    "Ans) The integers 0, 1, 2, 3, and 4\n"
   ]
  }
 ],
 "metadata": {
  "kernelspec": {
   "display_name": "Python 3",
   "language": "python",
   "name": "python3"
  },
  "language_info": {
   "codemirror_mode": {
    "name": "ipython",
    "version": 3
   },
   "file_extension": ".py",
   "mimetype": "text/x-python",
   "name": "python",
   "nbconvert_exporter": "python",
   "pygments_lexer": "ipython3",
   "version": "3.8.5"
  }
 },
 "nbformat": 4,
 "nbformat_minor": 4
}
