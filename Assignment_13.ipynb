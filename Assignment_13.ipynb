{
 "cells": [
  {
   "cell_type": "markdown",
   "metadata": {},
   "source": [
    "### 1. What advantages do Excel spreadsheets have over CSV spreadsheets?\n",
    "Ans) In Excel we can do format the data like bold,itlic,different font sizes. Can be inserted charts and images and can do calculations using formuals. Data can be organized and easy to understnad. But in CSV spreadsheets can hold only stings.\n",
    "\n",
    "\n",
    "### 2.What do you pass to csv.reader() and csv.writer() to create reader and writer objects?\n",
    "Ans) Need to pass fileobject.\n",
    "\n",
    "\n",
    "### 3. What modes do File objects for reader and writer objects need to be opened in?\n",
    "Ans) read-binary ('rb') for reader objects and write-binary ('wb') for writer objects.\n",
    "\n",
    "\n",
    "### 4. What method takes a list argument and writes it to a CSV file?\n",
    "Ans) The writerow() method.\n",
    "\n",
    "\n",
    "### 5. What do the keyword arguments delimiter and line terminator do?\n",
    "Ans) The delimiter argument changes the string used to separate cells in a row. The line terminator argument changes the string used to separate rows.\n",
    "\n",
    "\n",
    "### 6. What function takes a string of JSON data and returns a Python data structure?\n",
    "Ans) json.loads()\n",
    "\n",
    "\n",
    "### 7. What function takes a Python data structure and returns a string of JSON data?\n",
    "Ans) json.dumps()"
   ]
  }
 ],
 "metadata": {
  "kernelspec": {
   "display_name": "Python 3",
   "language": "python",
   "name": "python3"
  },
  "language_info": {
   "codemirror_mode": {
    "name": "ipython",
    "version": 3
   },
   "file_extension": ".py",
   "mimetype": "text/x-python",
   "name": "python",
   "nbconvert_exporter": "python",
   "pygments_lexer": "ipython3",
   "version": "3.8.5"
  }
 },
 "nbformat": 4,
 "nbformat_minor": 4
}
