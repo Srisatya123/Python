{
 "cells": [
  {
   "cell_type": "markdown",
   "metadata": {},
   "source": [
    "### 1. Why are functions advantageous to have in your programs?\n",
    "Ans: A function is basically a block of statements that performs a particular task. Functions keeps the program organized, easy to understand and makes it reusable. It reduces the complexity of a program and gives it a modular structure.\n",
    "\n",
    "### 2. When does the code in a function run: when it's specified or when it's called?\n",
    "Ans: The the function run: is specified then the function name will be assigned to the block of the code inside the funtion.\n",
    "\n",
    "    When the function run:  is called the program control jumps to that function definition and executes the statements         inside the function body. After executing the body of the run: function, the program control jumps back to the part         of the program which called the function, and resumes execution at that point\n",
    "\n",
    "### 3. What statement creates a function?\n",
    "Ans: Function declaration statement (def my_func1()) will creat a function in Python.\n",
    "    Ex: def fun1():\n",
    "            print('this is function')\n",
    "\n",
    "### 4. What is the difference between a function and a function call?\n",
    "Ans: A function is set of instructions or statements to achieve a particular task or result \n",
    "     but function call is using this function to achive that task where ever requied in n number of times in the code.\n",
    "\n",
    "### 5. How many global scopes are there in a Python program? How many local scopes?\n",
    "Ans: There's only one global Python scope per program execution. This scope remains in existence until the program terminates and all its names are forgotten. And there is one local scope. A variable created inside a function belongs to the local scope of that function, and can only be used inside that function. \n",
    "\n",
    "Python resolves names using the so-called LEGB rule:\n",
    "\n",
    "    1)Local Scope     -- Inside Functions\n",
    "    \n",
    "    2)Enclosed Scope  -- Nested functions\n",
    "    \n",
    "    3)Global Scope    -- top-most scope in a Python program, script, or module\n",
    "    \n",
    "    4)Builtin scope   -- Keywords. it is a special Python scope that’s created or loaded whenever you run a script \n",
    "    \n",
    "\n",
    "### 6. What happens to variables in a local scope when the function call returns?\n",
    "Ans: The local variable becomes undefined after the function call returns.\n",
    "\n",
    "### 7. What is the concept of a return value? Is it possible to have a return value in an expression?\n",
    "Ans: Return statement sends the function’s result back to the caller. yes it is possible a retrun value in an expresssion.\n",
    "\n",
    "### 8. If a function does not have a return statement, what is the return value of a call to that function?\n",
    "Ans: NoneType\n",
    "\n",
    "### 9. How do you make a function variable refer to the global variable?\n",
    "Ans: by using \"global\" keyword.\n",
    "\n",
    "### 10. What is the data type of None?\n",
    "Ans: NoneType\n",
    "\n",
    "### 11. What does the sentence import areallyourpetsnamederic do?\n",
    "Ans: it will import areallyourpetsnamederic module into the current python. \n",
    "    Actuall this statmenet seraches for the areallyourpetsnamederic module, and it import that module into the current python section and \n",
    "    then it binds the results of that search to a name in the local scope\n",
    "\n",
    "### 12. If you had a bacon() feature in a spam module, what would you call it after importing spam?\n",
    "Ans: This feature can be called with spam.bacon().\n",
    "\n",
    "### 13. What can you do to save a programme from crashing if it encounters an error?\n",
    "Ans: Using Exceptional Handling we can prevent programe from crashing if it encounters an error.\n",
    "     Exception handling using try - except and try - except - finally\n",
    "\n",
    "### 14. What is the purpose of the try clause? What is the purpose of the except clause?\n",
    "Ans: The try block lets you test a block of code for errors. The except block lets you handle the error.\n"
   ]
  },
  {
   "cell_type": "code",
   "execution_count": 11,
   "metadata": {},
   "outputs": [],
   "source": [
    "def fun1():\n",
    "            pass"
   ]
  },
  {
   "cell_type": "code",
   "execution_count": 12,
   "metadata": {},
   "outputs": [
    {
     "data": {
      "text/plain": [
       "NoneType"
      ]
     },
     "execution_count": 12,
     "metadata": {},
     "output_type": "execute_result"
    }
   ],
   "source": [
    "a=fun1()\n",
    "type(a)"
   ]
  },
  {
   "cell_type": "code",
   "execution_count": 14,
   "metadata": {},
   "outputs": [
    {
     "data": {
      "text/plain": [
       "NoneType"
      ]
     },
     "execution_count": 14,
     "metadata": {},
     "output_type": "execute_result"
    }
   ],
   "source": [
    "x=None\n",
    "y=''\n",
    "\n",
    "type(x)\n",
    "\n"
   ]
  },
  {
   "cell_type": "code",
   "execution_count": 40,
   "metadata": {},
   "outputs": [
    {
     "name": "stdout",
     "output_type": "stream",
     "text": [
      "1\n",
      "2\n",
      "1\n"
     ]
    }
   ],
   "source": [
    "def red():\n",
    "    a=1\n",
    "    def blue():\n",
    "                    b=2\n",
    "                    print(a)\n",
    "                    print(b)\n",
    "    blue()\n",
    "    print(a)\n",
    "red()"
   ]
  },
  {
   "cell_type": "code",
   "execution_count": 41,
   "metadata": {},
   "outputs": [
    {
     "name": "stdout",
     "output_type": "stream",
     "text": [
      "2\n",
      "2\n",
      "2\n"
     ]
    }
   ],
   "source": [
    "def red():\n",
    "    a=1\n",
    "    def blue():\n",
    "                    nonlocal a\n",
    "                    a=2\n",
    "                    b=2\n",
    "                    print(a)\n",
    "                    print(b)\n",
    "    blue()\n",
    "    print(a)             \n",
    "red()"
   ]
  }
 ],
 "metadata": {
  "kernelspec": {
   "display_name": "Python 3",
   "language": "python",
   "name": "python3"
  },
  "language_info": {
   "codemirror_mode": {
    "name": "ipython",
    "version": 3
   },
   "file_extension": ".py",
   "mimetype": "text/x-python",
   "name": "python",
   "nbconvert_exporter": "python",
   "pygments_lexer": "ipython3",
   "version": "3.8.5"
  }
 },
 "nbformat": 4,
 "nbformat_minor": 4
}
