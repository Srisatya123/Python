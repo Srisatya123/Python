{
 "cells": [
  {
   "cell_type": "markdown",
   "metadata": {},
   "source": [
    "### 1.\tWrite a Python program to check if the given number is a Disarium Number?"
   ]
  },
  {
   "cell_type": "code",
   "execution_count": 17,
   "metadata": {},
   "outputs": [
    {
     "name": "stdout",
     "output_type": "stream",
     "text": [
      "Enter any number greater than zero: 518\n",
      "518 is an Disarium number\n"
     ]
    }
   ],
   "source": [
    "import math\n",
    "Disarium = int(input(\"Enter any number greater than zero: \"))\n",
    "digit=0\n",
    "total = 0\n",
    "cnt=len(str(Disarium))\n",
    "temp = Disarium\n",
    "while temp > 0:\n",
    "    \n",
    "    digit = temp % 10\n",
    "    total += (int) ( math.pow(digit, cnt))\n",
    "    cnt = cnt - 1\n",
    "    temp //= 10\n",
    "    #print(temp,total,digit,cnt)\n",
    "    \n",
    "\n",
    "if Disarium == total:\n",
    "   print(Disarium,\"is an Disarium number\")\n",
    "else:\n",
    "   print(Disarium,\"is not an Disarium number\")"
   ]
  },
  {
   "cell_type": "markdown",
   "metadata": {},
   "source": [
    "### 2.\tWrite a Python program to print all disarium numbers between 1 to 100?\n"
   ]
  },
  {
   "cell_type": "code",
   "execution_count": 19,
   "metadata": {},
   "outputs": [
    {
     "name": "stdout",
     "output_type": "stream",
     "text": [
      "1\n",
      "2\n",
      "3\n",
      "4\n",
      "5\n",
      "6\n",
      "7\n",
      "8\n",
      "9\n",
      "89\n"
     ]
    }
   ],
   "source": [
    "# Program to check disarium numbers in between 1 to 100\n",
    "import math\n",
    "lower = 1\n",
    "upper = 100\n",
    "\n",
    "for num in range(lower, upper + 1):   \n",
    "   cnt = len(str(num))\n",
    "    \n",
    "   # initialize sum\n",
    "   sum = 0\n",
    "\n",
    "   temp = num\n",
    "   while temp > 0:\n",
    "       digit = temp % 10\n",
    "       sum += math.pow(digit, cnt)\n",
    "       cnt-=1\n",
    "       temp //= 10\n",
    "\n",
    "   if num == sum:\n",
    "       print(num)"
   ]
  },
  {
   "cell_type": "markdown",
   "metadata": {},
   "source": [
    "### 3.\tWrite a Python program to check if the given number is Happy Number?\n"
   ]
  },
  {
   "cell_type": "code",
   "execution_count": 5,
   "metadata": {},
   "outputs": [
    {
     "name": "stdout",
     "output_type": "stream",
     "text": [
      "Enter any number : 77\n",
      "77 is not a happy number\n"
     ]
    }
   ],
   "source": [
    "def happy_num_fun(n):\n",
    "    \n",
    "    sum=0\n",
    "    temp=n\n",
    "    while temp>0:\n",
    "        digit=temp%10\n",
    "        sum+=digit**2\n",
    "        temp//=10    \n",
    "    \n",
    "    if sum==1 or sum==4:\n",
    "        return sum\n",
    "    else:\n",
    "        return happy_num_fun(sum)\n",
    "            \n",
    "n=int(input(\"Enter any number : \"))\n",
    "\n",
    "if n<0:\n",
    "    print(\"Kindly enter positive numbers only\")\n",
    "else:\n",
    "    if happy_num_fun(n)==1:\n",
    "        print('{0} is a happy number'.format(n))\n",
    "    else:\n",
    "        print('{0} is not a happy number'.format(n))\n",
    "    "
   ]
  },
  {
   "cell_type": "markdown",
   "metadata": {},
   "source": [
    "### 4.\tWrite a Python program to print all happy numbers between 1 and 100?\n"
   ]
  },
  {
   "cell_type": "code",
   "execution_count": 8,
   "metadata": {},
   "outputs": [
    {
     "name": "stdout",
     "output_type": "stream",
     "text": [
      "The list of happy numbers between 1 and 100 are : \n",
      "1\n",
      "7\n",
      "10\n",
      "13\n",
      "19\n",
      "23\n",
      "28\n",
      "31\n",
      "32\n",
      "44\n",
      "49\n",
      "68\n",
      "70\n",
      "79\n",
      "82\n",
      "86\n",
      "91\n",
      "94\n",
      "97\n",
      "100\n"
     ]
    }
   ],
   "source": [
    "def happy_num_fun(n):    \n",
    "    sum,temp=0,n\n",
    "\n",
    "    while temp>0:\n",
    "        digit=temp%10\n",
    "        sum+=digit**2\n",
    "        temp//=10     \n",
    "    if sum==1 or sum==4:\n",
    "        return sum\n",
    "    else:\n",
    "        return happy_num_fun(sum)\n",
    "\n",
    "print(\"The list of happy numbers between 1 and 100 are : \")\n",
    "for i in range(1, 101):\n",
    "   if happy_num_fun(i)==1:\n",
    "    print(i)"
   ]
  },
  {
   "cell_type": "markdown",
   "metadata": {},
   "source": [
    "### 5.\tWrite a Python program to determine whether the given number is a Harshad Number?\n"
   ]
  },
  {
   "cell_type": "code",
   "execution_count": 9,
   "metadata": {},
   "outputs": [
    {
     "name": "stdout",
     "output_type": "stream",
     "text": [
      "Enter any number : 156\n",
      "156 is a harshad number\n"
     ]
    }
   ],
   "source": [
    "num = int(input(\"Enter any number : \"))   \n",
    "rem = sum = 0;\n",
    "    \n",
    "n = num;    \n",
    "    \n",
    "while(num > 0):    \n",
    "    rem = num%10;    \n",
    "    sum = sum + rem;    \n",
    "    num = num//10;    \n",
    "       \n",
    "if(n%sum == 0):    \n",
    "    print(str(n) + \" is a harshad number\");    \n",
    "else:    \n",
    "    print(str(n) + \" is not a harshad number\"); "
   ]
  },
  {
   "cell_type": "markdown",
   "metadata": {},
   "source": [
    "### 6.\tWrite a Python program to print all pronic numbers between 1 and 100?"
   ]
  },
  {
   "cell_type": "code",
   "execution_count": 12,
   "metadata": {},
   "outputs": [
    {
     "name": "stdout",
     "output_type": "stream",
     "text": [
      "Pronic numbers between 1 and 100: \n",
      "2\n",
      "6\n",
      "12\n",
      "20\n",
      "30\n",
      "42\n",
      "56\n",
      "72\n",
      "90\n"
     ]
    }
   ],
   "source": [
    "def isPronicNumber(num):    \n",
    "    flag = False;    \n",
    "        \n",
    "    for j in range(1, num+1):          \n",
    "        if((j*(j+1)) == num):    \n",
    "            flag = True    \n",
    "            break    \n",
    "    return flag    \n",
    "     \n",
    "#Displays pronic numbers between 1 and 100    \n",
    "print(\"Pronic numbers between 1 and 100: \")    \n",
    "for i in range(1, 101):    \n",
    "    if(isPronicNumber(i)):    \n",
    "        print(i)   "
   ]
  }
 ],
 "metadata": {
  "kernelspec": {
   "display_name": "Python 3",
   "language": "python",
   "name": "python3"
  },
  "language_info": {
   "codemirror_mode": {
    "name": "ipython",
    "version": 3
   },
   "file_extension": ".py",
   "mimetype": "text/x-python",
   "name": "python",
   "nbconvert_exporter": "python",
   "pygments_lexer": "ipython3",
   "version": "3.8.5"
  }
 },
 "nbformat": 4,
 "nbformat_minor": 4
}
