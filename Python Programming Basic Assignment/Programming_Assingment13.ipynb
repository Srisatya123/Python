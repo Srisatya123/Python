{
 "cells": [
  {
   "cell_type": "markdown",
   "metadata": {},
   "source": [
    "#### Question 1:\n",
    "  Write a program that calculates and prints the value according to the given formula:\n",
    "  \n",
    "  Q = Square root of [(2 * C * D)/H]\n",
    "\n",
    "Following are the fixed values of C and H:\n",
    "\n",
    "C is 50. H is 30.\n",
    "\n",
    "D is the variable whose values should be input to your program in a comma-separated sequence.\n",
    "\n",
    "Example :\n",
    "  Let us assume the following comma separated input sequence is given to the program:\n",
    "100,150,180\n",
    "  \n",
    "  The output of the program should be:\n",
    "  18,22,24\n"
   ]
  },
  {
   "cell_type": "code",
   "execution_count": 7,
   "metadata": {},
   "outputs": [
    {
     "name": "stdout",
     "output_type": "stream",
     "text": [
      "Enter Values for D: 100,150,180\n",
      "[18, 22, 24]\n"
     ]
    }
   ],
   "source": [
    "import math\n",
    "\n",
    "l = input(\"Enter Values for D: \").split(',')\n",
    "\n",
    "result_list = []\n",
    "for D in l:\n",
    "    Q = round(math.sqrt(2 * 50 * int(D) / 30))\n",
    "    result_list.append(Q)\n",
    "\n",
    "print(result_list)"
   ]
  },
  {
   "cell_type": "markdown",
   "metadata": {},
   "source": [
    "#####  Question 2:\n",
    "#####  Write a program which takes 2 digits, X,Y as input and generates a 2-dimensional array. The element value in the i-th row and j-th column of the array should be i*j.\n",
    "#####  Note: i=0,1.., X-1; j=0,1,¡¬Y-1.\n",
    "#####  Example\n",
    "#####  Suppose the following inputs are given to the program:\n",
    "#####  3,5\n",
    "#####  Then, the output of the program should be:\n",
    "#####  [[0, 0, 0, 0, 0], [0, 1, 2, 3, 4], [0, 2, 4, 6, 8]] \n"
   ]
  },
  {
   "cell_type": "code",
   "execution_count": 23,
   "metadata": {},
   "outputs": [
    {
     "name": "stdout",
     "output_type": "stream",
     "text": [
      "Enter Values for X: 3\n",
      "Enter Values for Y: 5\n",
      "[[0, 0, 0, 0, 0], [0, 1, 2, 3, 4], [0, 2, 4, 6, 8]]\n"
     ]
    }
   ],
   "source": [
    "X = int(input(\"Enter Values for X: \"))\n",
    "Y= int(input(\"Enter Values for Y: \"))\n",
    "m=[[1 for j in range(Y)]for i in range(X)]\n",
    "\n",
    "for i in range(X):\n",
    "    for j in range(Y):\n",
    "        m[i][j]=i*j\n",
    "print(m)"
   ]
  },
  {
   "cell_type": "code",
   "execution_count": 17,
   "metadata": {},
   "outputs": [
    {
     "name": "stdout",
     "output_type": "stream",
     "text": [
      "Row:3\n",
      "Column:5\n",
      "[[0, 0, 0, 0, 0], [0, 1, 2, 3, 4], [0, 2, 4, 6, 8]]\n"
     ]
    }
   ],
   "source": [
    "m=int(input(\"Row:\"))\n",
    "n=int(input(\"Column:\"))\n",
    "matrix=[[0 for col in range(n)] for row in range(m)]\n",
    "for row in range(m):\n",
    "    for col in range(n):\n",
    "        matrix[row][col]=row*col\n",
    "print(matrix)"
   ]
  },
  {
   "cell_type": "markdown",
   "metadata": {},
   "source": [
    "#####  Question 3:\n",
    "#####  Write a program that accepts a comma separated sequence of words as input and prints the words in a comma-separated sequence after sorting them alphabetically.\n",
    "#####  Suppose the following input is supplied to the program:\n",
    "#####  without,hello,bag,world\n",
    "#####  Then, the output should be:\n",
    "#####  bag,hello,without,world\n"
   ]
  },
  {
   "cell_type": "code",
   "execution_count": 28,
   "metadata": {},
   "outputs": [
    {
     "name": "stdout",
     "output_type": "stream",
     "text": [
      "Enter comma seperated words :without,hello,bag,world\n",
      "['bag', 'hello', 'without', 'world']\n"
     ]
    }
   ],
   "source": [
    "s=input(\"Enter comma seperated words : \\n\").split(',')\n",
    "print(sorted(list(set(s))))"
   ]
  },
  {
   "cell_type": "markdown",
   "metadata": {},
   "source": [
    "#####  Question 4:\n",
    "#####  Write a program that accepts a sequence of whitespace separated words as input and prints the words after removing all duplicate words and sorting them alphanumerically.\n",
    "#####  Suppose the following input is supplied to the program:\n",
    "#####  hello world and practice makes perfect and hello world again\n",
    "#####  Then, the output should be:\n",
    "#####  again and hello makes perfect practice world\n"
   ]
  },
  {
   "cell_type": "code",
   "execution_count": 45,
   "metadata": {},
   "outputs": [
    {
     "name": "stdout",
     "output_type": "stream",
     "text": [
      "Enter space seperated words :  \n",
      "hello world and practice makes perfect and hello world again\n",
      "again and hello makes perfect practice world "
     ]
    }
   ],
   "source": [
    "s=input(\"Enter space seperated words :  \\n\").split(' ')\n",
    "    \n",
    "l=[print(i,end=' ') for i in sorted(list(set(s)))]"
   ]
  },
  {
   "cell_type": "markdown",
   "metadata": {},
   "source": [
    "#####  Question 5:\n",
    "#####  Write a program that accepts a sentence and calculate the number of letters and digits.\n",
    "#####  Suppose the following input is supplied to the program:\n",
    "#####  hello world! 123\n",
    "#####  Then, the output should be:\n",
    "#####  LETTERS 10\n",
    "#####  DIGITS 3\n"
   ]
  },
  {
   "cell_type": "code",
   "execution_count": 51,
   "metadata": {},
   "outputs": [
    {
     "name": "stdout",
     "output_type": "stream",
     "text": [
      "Enter a sentance :  \n",
      "hello world! 123\n",
      "Letters 10\n",
      "Digits 3\n"
     ]
    }
   ],
   "source": [
    "s=input(\"Enter a sentance :  \\n\")\n",
    "d=0\n",
    "l=0\n",
    "for i in s:\n",
    "    if i.isdigit():\n",
    "        d+=1\n",
    "    elif i.isalpha():\n",
    "        l+=1 \n",
    "    \n",
    "print(\"Letters\", l)\n",
    "print(\"Digits\", d)"
   ]
  },
  {
   "cell_type": "markdown",
   "metadata": {},
   "source": [
    "#####  Question 6:\n",
    "#####  A website requires the users to input username and password to register. Write a program to check the validity of password input by users.\n",
    "#####  Following are the criteria for checking the password:\n",
    "#####  1. At least 1 letter between [a-z]\n",
    "#####  2. At least 1 number between [0-9]\n",
    "#####  1. At least 1 letter between [A-Z]\n",
    "#####  3. At least 1 character from [#@]\n",
    "#####  4. Minimum length of transaction password: 6\n",
    "#####  5. Maximum length of transaction password: 12\n",
    "#####  Your program should accept a sequence of comma separated passwords and will check them according to the above criteria. Passwords that match the criteria are to be printed, each separated by a comma.\n",
    "#####  Example\n",
    "#####  If the following passwords are given as input to the program:\n",
    "#####  ABd1234@1,a F1#,2w3E*,2We3345\n",
    "#####  Then, the output of the program should be:\n",
    "#####  ABd1234@1"
   ]
  },
  {
   "cell_type": "code",
   "execution_count": 55,
   "metadata": {},
   "outputs": [
    {
     "name": "stdout",
     "output_type": "stream",
     "text": [
      "Enter passwords list : ABd1234@1,a F1#,2w3E*,2We3345,Wwewe2$\n",
      "ABd1234@1, Wwewe2$\n"
     ]
    }
   ],
   "source": [
    "import re\n",
    "\n",
    "pwrd = input(\"Enter passwords list : \").split(\",\")\n",
    "\n",
    "correct_pass = []\n",
    "for i in pwrd:\n",
    "    \n",
    "    if len(i) < 6 or len(i) > 12:\n",
    "        continue\n",
    "\n",
    "    elif not re.search(\"([a-z])+\", i):\n",
    "        continue\n",
    "\n",
    "    elif not re.search(\"([A-Z])+\", i):\n",
    "        continue\n",
    "\n",
    "    elif not re.search(\"([0-9])+\", i):\n",
    "        continue\n",
    "\n",
    "    elif not re.search(\"([!@$%^&])+\", i):\n",
    "        continue\n",
    "\n",
    "    else:\n",
    "        correct_pass.append(i)\n",
    "\n",
    "print((\", \").join(correct_pass))\n",
    "\n",
    " "
   ]
  },
  {
   "cell_type": "code",
   "execution_count": null,
   "metadata": {},
   "outputs": [],
   "source": []
  }
 ],
 "metadata": {
  "kernelspec": {
   "display_name": "Python 3",
   "language": "python",
   "name": "python3"
  },
  "language_info": {
   "codemirror_mode": {
    "name": "ipython",
    "version": 3
   },
   "file_extension": ".py",
   "mimetype": "text/x-python",
   "name": "python",
   "nbconvert_exporter": "python",
   "pygments_lexer": "ipython3",
   "version": "3.8.5"
  }
 },
 "nbformat": 4,
 "nbformat_minor": 4
}
