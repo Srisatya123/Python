{
 "cells": [
  {
   "cell_type": "markdown",
   "metadata": {},
   "source": [
    "### 1.\tWrite a Python program to find sum of elements in list?"
   ]
  },
  {
   "cell_type": "code",
   "execution_count": 24,
   "metadata": {},
   "outputs": [
    {
     "name": "stdout",
     "output_type": "stream",
     "text": [
      "Sum of all elements in given list:  10\n"
     ]
    }
   ],
   "source": [
    "l=[1,2,3,4]\n",
    "total=0\n",
    "for i in l:\n",
    "    total+=i\n",
    "print(\"Sum of all elements in given list: \", total)"
   ]
  },
  {
   "cell_type": "code",
   "execution_count": 25,
   "metadata": {},
   "outputs": [
    {
     "name": "stdout",
     "output_type": "stream",
     "text": [
      "Sum of all elements in given list:  10\n"
     ]
    }
   ],
   "source": [
    "#Another short cut way\n",
    "l=[1,2,3,4]\n",
    "print(\"Sum of all elements in given list: \", sum(l))"
   ]
  },
  {
   "cell_type": "markdown",
   "metadata": {},
   "source": [
    "### 2.\tWrite a Python program to  Multiply all numbers in the list?"
   ]
  },
  {
   "cell_type": "code",
   "execution_count": 26,
   "metadata": {},
   "outputs": [
    {
     "name": "stdout",
     "output_type": "stream",
     "text": [
      "Multiplication value of all numbers in given list:  24\n"
     ]
    }
   ],
   "source": [
    "l=[1,2,3,4]\n",
    "total=1\n",
    "for i in l:\n",
    "    total*=i\n",
    "print(\"Multiplication value of all numbers in given list: \", total)"
   ]
  },
  {
   "cell_type": "code",
   "execution_count": 27,
   "metadata": {},
   "outputs": [
    {
     "name": "stdout",
     "output_type": "stream",
     "text": [
      "Multiplication value of all numbers in given list:  24\n"
     ]
    }
   ],
   "source": [
    "#Another short cut way\n",
    "import math\n",
    "l=[1,2,3,4]\n",
    "print(\"Multiplication value of all numbers in given list: \", math.prod(l))"
   ]
  },
  {
   "cell_type": "markdown",
   "metadata": {},
   "source": [
    "### 3.\tWrite a Python program to find smallest number in a list?"
   ]
  },
  {
   "cell_type": "code",
   "execution_count": 28,
   "metadata": {},
   "outputs": [
    {
     "name": "stdout",
     "output_type": "stream",
     "text": [
      "Smallest number in the list is: 21\n"
     ]
    }
   ],
   "source": [
    "list1 = [100, 220, 21, 435, 4499]\n",
    " \n",
    "print(\"Smallest number in the list is:\", min(list1))"
   ]
  },
  {
   "cell_type": "code",
   "execution_count": 29,
   "metadata": {},
   "outputs": [
    {
     "name": "stdout",
     "output_type": "stream",
     "text": [
      "Smallest number in the list is: 45\n"
     ]
    }
   ],
   "source": [
    "list1 = [102, 230, 434, 45, 99]\n",
    " \n",
    "list1.sort()\n",
    "\n",
    "print(\"Smallest number in the list is:\", list1[0])"
   ]
  },
  {
   "cell_type": "markdown",
   "metadata": {},
   "source": [
    "### 4.\tWrite a Python program to find largest number in a list?"
   ]
  },
  {
   "cell_type": "code",
   "execution_count": 30,
   "metadata": {},
   "outputs": [
    {
     "name": "stdout",
     "output_type": "stream",
     "text": [
      "Largest number in the list is: 4499\n"
     ]
    }
   ],
   "source": [
    "list1 = [100, 220, 21, 435, 4499]\n",
    " \n",
    "print(\"Largest number in the list is:\", max(list1))"
   ]
  },
  {
   "cell_type": "code",
   "execution_count": 31,
   "metadata": {},
   "outputs": [
    {
     "name": "stdout",
     "output_type": "stream",
     "text": [
      "Largest number in the list is: 434\n"
     ]
    }
   ],
   "source": [
    "list1 = [102, 230, 434, 45, 99]\n",
    " \n",
    "list1.sort()\n",
    "\n",
    "print(\"Largest number in the list is:\", list1[-1])"
   ]
  },
  {
   "cell_type": "markdown",
   "metadata": {},
   "source": [
    "### 5.\tWrite a Python program to find second largest number in a list?"
   ]
  },
  {
   "cell_type": "code",
   "execution_count": 32,
   "metadata": {},
   "outputs": [
    {
     "name": "stdout",
     "output_type": "stream",
     "text": [
      "Second Largest number in the list is: 230\n"
     ]
    }
   ],
   "source": [
    "list1 = [102, 230, 434, 45, 99]\n",
    " \n",
    "list1.sort()\n",
    "\n",
    "print(\"Second Largest number in the list is:\", list1[-2])"
   ]
  },
  {
   "cell_type": "markdown",
   "metadata": {},
   "source": [
    "### 6.\tWrite a Python program to find N largest elements from a list?"
   ]
  },
  {
   "cell_type": "code",
   "execution_count": 36,
   "metadata": {},
   "outputs": [
    {
     "name": "stdout",
     "output_type": "stream",
     "text": [
      "Enter the n value : 4\n",
      "4th Largest number in the list is: 99\n"
     ]
    }
   ],
   "source": [
    "list1 = [102, 230, 434, 45, 99]\n",
    " \n",
    "list1.sort()\n",
    "\n",
    "n=int(input(\"Enter the n value : \"))\n",
    "\n",
    "print(\"{0}th Largest number in the list is:\".format(n), list1[-n])"
   ]
  },
  {
   "cell_type": "markdown",
   "metadata": {},
   "source": [
    "### 7.\tWrite a Python program to print even numbers in a list?"
   ]
  },
  {
   "cell_type": "code",
   "execution_count": 39,
   "metadata": {},
   "outputs": [
    {
     "name": "stdout",
     "output_type": "stream",
     "text": [
      "Even numbers in the given list are : \n",
      "102  230  44  22  66  434  "
     ]
    }
   ],
   "source": [
    "list1 = [102, 230, 44,5,67,777,555,55,22,66,434, 45, 99]\n",
    "print(\"Even numbers in the given list are : \")\n",
    "for i in list1:\n",
    "    if i%2==0:\n",
    "        print(i,end=\"  \")"
   ]
  },
  {
   "cell_type": "code",
   "execution_count": 45,
   "metadata": {},
   "outputs": [
    {
     "name": "stdout",
     "output_type": "stream",
     "text": [
      "Even numbers in the given list are :  [102, 230, 44, 22, 66, 434]\n"
     ]
    }
   ],
   "source": [
    "#using list comprehension\n",
    "list1 = [102, 230, 44,5,67,777,555,55,22,66,434, 45, 99]\n",
    "print(\"Even numbers in the given list are : \",[i for i in list1 if i%2==0])"
   ]
  },
  {
   "cell_type": "markdown",
   "metadata": {},
   "source": [
    "### 8.\tWrite a Python program to print odd numbers in a List?"
   ]
  },
  {
   "cell_type": "code",
   "execution_count": 46,
   "metadata": {},
   "outputs": [
    {
     "name": "stdout",
     "output_type": "stream",
     "text": [
      "Odd numbers in the given list are :  [5, 67, 777, 555, 55, 45, 99]\n"
     ]
    }
   ],
   "source": [
    "list1 = [102, 230, 44,5,67,777,555,55,22,66,434, 45, 99]\n",
    "print(\"Odd numbers in the given list are : \",[i for i in list1 if i%2!=0])"
   ]
  },
  {
   "cell_type": "markdown",
   "metadata": {},
   "source": [
    "### 9.\tWrite a Python program to Remove empty List from List?"
   ]
  },
  {
   "cell_type": "code",
   "execution_count": 64,
   "metadata": {},
   "outputs": [
    {
     "name": "stdout",
     "output_type": "stream",
     "text": [
      "Given list :  [102, 230, [], 44, [], 5, 67, 777, 555, [], [], 55, 22, 66, 434, 45, 99]\n",
      "New list after removing empty list [102, 230, 44, 5, 67, 777, 555, 55, 22, 66, 434, 45, 99]\n"
     ]
    }
   ],
   "source": [
    "list1 = [102, 230,[], 44,[],5,67,777,555,[],[],55,22,66,434, 45, 99]\n",
    "print(\"Given list : \",list1)\n",
    "print(\"New list after removing empty list\",[i for i in list1 if i!=[]])"
   ]
  },
  {
   "cell_type": "markdown",
   "metadata": {},
   "source": [
    "### 10.\tWrite a Python program to Cloning or Copying a list?"
   ]
  },
  {
   "cell_type": "code",
   "execution_count": 66,
   "metadata": {},
   "outputs": [
    {
     "name": "stdout",
     "output_type": "stream",
     "text": [
      "List :  [102, 230, 434, 45, 99]\n",
      "list copy:  [102, 230, 434, 45, 99]\n"
     ]
    }
   ],
   "source": [
    "list1 = [102, 230, 434, 45, 99]\n",
    "new_list=list1.copy()\n",
    "print(\"List : \",list1)\n",
    "print(\"list copy: \",new_list)"
   ]
  },
  {
   "cell_type": "markdown",
   "metadata": {},
   "source": [
    "### 11.\tWrite a Python program to Count occurrences of an element in a list?"
   ]
  },
  {
   "cell_type": "code",
   "execution_count": 68,
   "metadata": {},
   "outputs": [
    {
     "data": {
      "text/plain": [
       "[[1, 3], [2, 3], [3, 1], [4, 1], [5, 2]]"
      ]
     },
     "execution_count": 68,
     "metadata": {},
     "output_type": "execute_result"
    }
   ],
   "source": [
    "l=[1,2,1,2,1,2,3,4,5,5]\n",
    "[[i,l.count(i)] for i in set(l)]"
   ]
  },
  {
   "cell_type": "code",
   "execution_count": null,
   "metadata": {},
   "outputs": [],
   "source": []
  }
 ],
 "metadata": {
  "kernelspec": {
   "display_name": "Python 3",
   "language": "python",
   "name": "python3"
  },
  "language_info": {
   "codemirror_mode": {
    "name": "ipython",
    "version": 3
   },
   "file_extension": ".py",
   "mimetype": "text/x-python",
   "name": "python",
   "nbconvert_exporter": "python",
   "pygments_lexer": "ipython3",
   "version": "3.8.5"
  }
 },
 "nbformat": 4,
 "nbformat_minor": 4
}
