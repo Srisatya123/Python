{
 "cells": [
  {
   "cell_type": "markdown",
   "metadata": {},
   "source": [
    "### Question1. Create a function that takes three arguments a, b, c and returns the sum of the numbers that are evenly divided by c from the range a, b inclusive.\n",
    "Examples\n",
    "evenly_divisible(1, 10, 20) ➞ 0\n",
    "'# No number between 1 and 10 can be evenly divided by 20.\n",
    "\n",
    "evenly_divisible(1, 10, 2) ➞ 30\n",
    "'# 2 + 4 + 6 + 8 + 10 = 30\n",
    "\n",
    "evenly_divisible(1, 10, 3) ➞ 18\n",
    "'# 3 + 6 + 9 = 18"
   ]
  },
  {
   "cell_type": "code",
   "execution_count": 6,
   "metadata": {},
   "outputs": [
    {
     "name": "stdout",
     "output_type": "stream",
     "text": [
      "0\n",
      "30\n",
      "18\n"
     ]
    }
   ],
   "source": [
    "def evenly_divisible(A, B, C):\n",
    "    \n",
    "    sum = 0\n",
    "    for i in range(A, B + 1):\n",
    "        if (i % C == 0):\n",
    "            sum += i\n",
    "    return sum\n",
    "\n",
    "print(evenly_divisible(1, 10, 20))\n",
    "print(evenly_divisible(1, 10, 2))\n",
    "print(evenly_divisible(1, 10, 3))"
   ]
  },
  {
   "cell_type": "markdown",
   "metadata": {},
   "source": [
    "### Question2. Create a function that returns True if a given inequality expression is correct and False otherwise.\n",
    "Examples\n",
    "correct_signs(\"3 < 7 < 11\") ➞ True\n",
    "\n",
    "correct_signs(\"13 > 44 > 33 > 1\") ➞ False\n",
    "\n",
    "correct_signs(\"1 < 2 < 6 < 9 > 3\") ➞ True"
   ]
  },
  {
   "cell_type": "code",
   "execution_count": 29,
   "metadata": {},
   "outputs": [
    {
     "name": "stdout",
     "output_type": "stream",
     "text": [
      "Enter expression to evluate : 13 > 44 > 33 > 1\n"
     ]
    },
    {
     "data": {
      "text/plain": [
       "False"
      ]
     },
     "execution_count": 29,
     "metadata": {},
     "output_type": "execute_result"
    }
   ],
   "source": [
    "def correct_signs(expression_string):\n",
    "    return eval(expression_string)\n",
    "\n",
    "exp=input(\"Enter expression to evluate : \")\n",
    "correct_signs(exp)\n"
   ]
  },
  {
   "cell_type": "markdown",
   "metadata": {},
   "source": [
    "### Question3. Create a function that replaces all the vowels in a string with a specified character.\n",
    "Examples\n",
    "replace_vowels(\"the aardvark\", \"#\") ➞ \"th# ##rdv#rk\"\n",
    "\n",
    "replace_vowels(\"minnie mouse\", \"?\") ➞ \"m?nn?? m??s?\"\n",
    "\n",
    "replace_vowels(\"shakespeare\", \"*\") ➞ \"sh*k*sp**r*\""
   ]
  },
  {
   "cell_type": "code",
   "execution_count": 23,
   "metadata": {},
   "outputs": [
    {
     "name": "stdout",
     "output_type": "stream",
     "text": [
      "Enter the string : minnie mouse\n",
      "Enter Replcacing character : ?\n",
      "replace_vowels( minnie mouse , ? )-->  m?nn?? m??s?\n"
     ]
    }
   ],
   "source": [
    "def replace_vowels(test_str, C):\n",
    "  \n",
    "    vowels_list = ['A', 'E', 'I', 'O', 'U', 'a', 'e', 'i', 'o', 'u']\n",
    "    new_string = []\n",
    "    string_list = list(test_str)\n",
    "\n",
    "    for i in string_list:\n",
    "        if i in vowels_list:\n",
    "            new_string.append(C)                \n",
    "        else:\n",
    "            new_string.append(i)\n",
    "    return(''.join(new_string))\n",
    "  \n",
    "input_str =input(\"Enter the string : \")\n",
    "\n",
    "c =input(\"Enter Replcacing character : \")\n",
    "print(\"replace_vowels(\" ,input_str,\",\",c,\")--> \",replace_vowels(input_str, c))"
   ]
  },
  {
   "cell_type": "markdown",
   "metadata": {},
   "source": [
    "### Question4. Write a function that calculates the factorial of a number recursively.\n",
    "Examples\n",
    "factorial(5) ➞ 120\n",
    "\n",
    "factorial(3) ➞ 6\n",
    "\n",
    "factorial(1) ➞ 1\n",
    "\n",
    "factorial(0) ➞ 1"
   ]
  },
  {
   "cell_type": "code",
   "execution_count": 32,
   "metadata": {},
   "outputs": [
    {
     "name": "stdout",
     "output_type": "stream",
     "text": [
      "Enter the number to calculate factorial : 7\n",
      "5040\n"
     ]
    }
   ],
   "source": [
    "def factorial_rec(n):\n",
    "    if n==1:\n",
    "        return n\n",
    "    elif n<0:\n",
    "        return \"Fctorial does not exsits for negative numbers\"\n",
    "    else:\n",
    "        return n*factorial_rec(n-1)\n",
    "n=int(input(\"Enter the number to calculate factorial : \"))\n",
    "print(factorial_rec(n))"
   ]
  },
  {
   "cell_type": "markdown",
   "metadata": {},
   "source": [
    "### Question 5\n",
    "Hamming distance is the number of characters that differ between two strings.\n",
    "To illustrate:\n",
    "String1: \"abcbba\"\n",
    "String2: \"abcbda\"\n",
    "\n",
    "Hamming Distance: 1 - \"b\" vs. \"d\" is the only difference.\n",
    "Create a function that computes the hamming distance between two strings.\n",
    "Examples\n",
    "hamming_distance(\"abcde\", \"bcdef\") ➞ 5\n",
    "\n",
    "hamming_distance(\"abcde\", \"abcde\") ➞ 0\n",
    "\n",
    "hamming_distance(\"strong\", \"strung\") ➞ 1"
   ]
  },
  {
   "cell_type": "code",
   "execution_count": 46,
   "metadata": {},
   "outputs": [
    {
     "name": "stdout",
     "output_type": "stream",
     "text": [
      "Enter input string1 : abced\n",
      "Enter input string2 : xfghl\n",
      "hamming distiance of given string is : 5\n"
     ]
    }
   ],
   "source": [
    "def hamming_distance(a,b):\n",
    "    cnt=0\n",
    "    alist=list(a)\n",
    "    blist=list(b)\n",
    "    for i in range(len(alist)):\n",
    "        if alist[i]!=blist[i]:\n",
    "            cnt+=1\n",
    "            #print(alist[i],blist[i])\n",
    "    return cnt\n",
    "\n",
    "str1=input(\"Enter input string1 : \")\n",
    "str2=input(\"Enter input string2 : \")\n",
    "\n",
    "print('hamming distiance of given string is :',hamming_distance(str1,str2))"
   ]
  },
  {
   "cell_type": "code",
   "execution_count": null,
   "metadata": {},
   "outputs": [],
   "source": []
  }
 ],
 "metadata": {
  "kernelspec": {
   "display_name": "Python 3",
   "language": "python",
   "name": "python3"
  },
  "language_info": {
   "codemirror_mode": {
    "name": "ipython",
    "version": 3
   },
   "file_extension": ".py",
   "mimetype": "text/x-python",
   "name": "python",
   "nbconvert_exporter": "python",
   "pygments_lexer": "ipython3",
   "version": "3.8.5"
  }
 },
 "nbformat": 4,
 "nbformat_minor": 4
}
