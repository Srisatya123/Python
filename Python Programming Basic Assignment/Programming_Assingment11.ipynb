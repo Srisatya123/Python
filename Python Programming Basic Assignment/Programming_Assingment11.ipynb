{
 "cells": [
  {
   "cell_type": "markdown",
   "metadata": {},
   "source": [
    "### 1.\tWrite a Python program to find words which are greater than given length k?"
   ]
  },
  {
   "cell_type": "code",
   "execution_count": 87,
   "metadata": {},
   "outputs": [
    {
     "name": "stdout",
     "output_type": "stream",
     "text": [
      "['product-driven', 'organisation', 'international', '\\ncarrying', 'expertise', 'development', 'learning,', 'expertise', 'warehousing,', 'Security,', 'Surveillance,', 'Healthcare', 'Inventory', 'management.']\n"
     ]
    }
   ],
   "source": [
    "s='''iNeuron is a product-driven organisation working on state of the art projects for our domestic and international clients \n",
    "carrying a lot of expertise in product development in the area of Computer vision, Deep learning, NLP, Auto ML and \n",
    "Machine learning with industry expertise in warehousing, Security, Surveillance, Healthcare and Inventory management.'''\n",
    "txt=s.split(\" \")\n",
    "s1=[]\n",
    "k=8\n",
    "for i in range(len(txt)):\n",
    "    if len(txt[i])>k:\n",
    "        s1.append(txt[i])\n",
    "print(s1)\n"
   ]
  },
  {
   "cell_type": "markdown",
   "metadata": {},
   "source": [
    "### 2.\tWrite a Python program for removing i-th character from a string?"
   ]
  },
  {
   "cell_type": "code",
   "execution_count": 88,
   "metadata": {},
   "outputs": [
    {
     "name": "stdout",
     "output_type": "stream",
     "text": [
      "ieuron\n"
     ]
    }
   ],
   "source": [
    "s='iNeuron'\n",
    "i=1\n",
    "s1=s.replace(s[i],'',1)\n",
    "print(s1)"
   ]
  },
  {
   "cell_type": "markdown",
   "metadata": {},
   "source": [
    "### 3.\tWrite a Python program to split and join a string?"
   ]
  },
  {
   "cell_type": "code",
   "execution_count": 89,
   "metadata": {},
   "outputs": [
    {
     "name": "stdout",
     "output_type": "stream",
     "text": [
      "Splitting string :\n",
      "['iNeuron', 'is', 'a', 'product-driven', 'organisation', 'working', 'on', 'state', 'of', 'the', 'art', 'projects']\n",
      "Joining string :\n",
      "iNeuron is a product-driven organisation working on state of the art projects\n"
     ]
    }
   ],
   "source": [
    "s='iNeuron is a product-driven organisation working on state of the art projects'\n",
    "split_string=s.split(\" \")\n",
    "print(\"Splitting string :\")\n",
    "print(split_string)\n",
    "\n",
    "print(\"Joining string :\")\n",
    "join_string=' '.join(split_string)\n",
    "print(join_string)"
   ]
  },
  {
   "cell_type": "markdown",
   "metadata": {},
   "source": [
    "\n",
    "### 4.\tWrite a Python to check if a given string is binary string or not?"
   ]
  },
  {
   "cell_type": "code",
   "execution_count": 90,
   "metadata": {},
   "outputs": [
    {
     "name": "stdout",
     "output_type": "stream",
     "text": [
      "Enter any string to find if it is binary or not:101010101\n",
      "Yes Given set is a binary string\n"
     ]
    }
   ],
   "source": [
    "s=input('Enter any string to find if it is binary or not:')\n",
    "s1=set(s)\n",
    "if s1=={'0','1'} or s1=={'0'} or s1=={'1'}:\n",
    "    print('Yes Given set is a binary string')\n",
    "else:\n",
    "    print(\"No. Given set is not a binary string\")    "
   ]
  },
  {
   "cell_type": "markdown",
   "metadata": {},
   "source": [
    "\n",
    "### 5.\tWrite a Python program to find uncommon words from two Strings?"
   ]
  },
  {
   "cell_type": "code",
   "execution_count": 91,
   "metadata": {},
   "outputs": [
    {
     "name": "stdout",
     "output_type": "stream",
     "text": [
      "['product-driven', 'organisation', 'carrying', 'lot', 'expertise', 'product', 'development', 'the', 'area', 'Computer', 'vision,', 'Deep', 'learning,', 'NLP,', 'Auto', 'ML', 'and', 'Machine', 'learning']\n"
     ]
    }
   ],
   "source": [
    "s1='iNeuron is a product-driven organisation'\n",
    "s2='iNeuron is carrying a lot of expertise in product development in the area of Computer vision, Deep learning, NLP, Auto ML and  Machine learning'\n",
    "s1_list=s1.split()\n",
    "s2_list=s2.split()\n",
    "s3_list=[]\n",
    "\n",
    "[s3_list.append(i) for i in s1_list+s2_list if (s1_list+s2_list).count(i)==1]\n",
    "\n",
    "print(s3_list)"
   ]
  },
  {
   "cell_type": "markdown",
   "metadata": {},
   "source": [
    "\n",
    "### 6.\tWrite a Python to find all duplicate characters in string?"
   ]
  },
  {
   "cell_type": "code",
   "execution_count": 92,
   "metadata": {},
   "outputs": [
    {
     "name": "stdout",
     "output_type": "stream",
     "text": [
      "['e', 'u', 'i', 'o', 'r', ' ', 'a', 't', 's', 'n', 'd']\n"
     ]
    }
   ],
   "source": [
    "s1='iNeuron is a product-driven organisation'\n",
    "\n",
    "s2=[i for i in s1 if s1.count(i)>=2]\n",
    "print(list(set(s2)))"
   ]
  },
  {
   "cell_type": "markdown",
   "metadata": {},
   "source": [
    "\n",
    "### 7.\tWrite a Python Program to check if a string contains any special character?"
   ]
  },
  {
   "cell_type": "code",
   "execution_count": 95,
   "metadata": {},
   "outputs": [
    {
     "name": "stdout",
     "output_type": "stream",
     "text": [
      "Yes given string contains special character\n",
      "['-', '.', '?', '!', ',', '@', '#', ',', '$']\n"
     ]
    }
   ],
   "source": [
    "import re\n",
    "s1='iNeuron is a product-driven organisation. Question mark ? exclamatory ! ,@ # ,$'\n",
    "\n",
    "if re.search('\\W',re.sub(' ','',s1)):\n",
    "    print('Yes given string contains special character')\n",
    "    print(re.findall(\"\\W\",re.sub(' ','',s1)))\n",
    "else:\n",
    "    print('No given string doesn\\'t contain special character')"
   ]
  }
 ],
 "metadata": {
  "kernelspec": {
   "display_name": "Python 3",
   "language": "python",
   "name": "python3"
  },
  "language_info": {
   "codemirror_mode": {
    "name": "ipython",
    "version": 3
   },
   "file_extension": ".py",
   "mimetype": "text/x-python",
   "name": "python",
   "nbconvert_exporter": "python",
   "pygments_lexer": "ipython3",
   "version": "3.8.5"
  }
 },
 "nbformat": 4,
 "nbformat_minor": 4
}
