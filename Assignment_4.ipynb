{
 "cells": [
  {
   "cell_type": "markdown",
   "metadata": {},
   "source": [
    "### 1. What exactly is []?\n",
    "Ans : This [] represents the list data type in Python.\n",
    "\n",
    "### 2. In a list of values stored in a variable called spam, how would you assign the value 'hello' as the third value? (Assume [2, 4, 6, 8, 10] are in spam.) \n",
    "Ans: spam[2]='hello'\n",
    "\n",
    "## Let's pretend the spam includes the list ['a', 'b', 'c', 'd'] for the next three queries.\n",
    "### 3. What is the value of spam[int(int('3' * 2) / 11)]?\n",
    "Ans: 'd'\n",
    "\n",
    "### 4. What is the value of spam[-1]?\n",
    "Ans: 'd'\n",
    "\n",
    "### 5. What is the value of spam[:2]?\n",
    "Ans: ['a', 'b']\n",
    "\n",
    "## Let's pretend bacon has the list [3.14, 'cat,' 11, 'cat,' True] for the next three questions.\n",
    "### 6. What is the value of bacon.index('cat')?\n",
    "Ans: 1\n",
    "\n",
    "### 7. How does bacon.append(99) change the look of the list value in bacon?\n",
    "Ans: [3.14, 'cat', 11, 'cat', True, 99]\n",
    "\n",
    "### 8. How does bacon.remove('cat') change the look of the list in bacon?\n",
    "Ans: [3.14, 11, 'cat', True, 99]\n",
    "\n",
    "### 9. What are the list concatenation and list replication operators?\n",
    "Ans: IN Python List concatenation is +. \n",
    "     And the operator for replication is *.\n",
    "\n",
    "### 10. What is difference between the list methods append() and insert()?\n",
    "Ans:Append() -- Alwasys add eleent at the end of the list. where as the inset() we can insert an element at a desired posit.\n",
    " insert(position, new_element)\n",
    "\n",
    "### 11. What are the two methods for removing items from a list?\n",
    "Ans:pop()   -- Removes an element from the list based on the index given\n",
    "    clear() -- removes all elements from the list.\n",
    "\n",
    "### 12. Describe how list values and string values are identical.\n",
    "Ans:  The values that make up a list are called its elements. Lists are similar to strings, which are ordered collections of characters, except that the elements of a list can have any type and for any one list, the items can be of different types. Lists can any type of data i.e. integers, characters, strings etc, while strings can only hold a set of characters.\n",
    "\n",
    "\n",
    "### 13. What's the difference between tuples and lists?\n",
    "Ans: lists are mutable whereas tuples are immutable means we cant change the tuple once values are assigned to tuple.\n",
    "     List is collection of data ie ordered and changable.\n",
    "     But Tuple is collection of data i.e ordered but not changable.\n",
    "     Both lists and tuples are indexed and allow duplicates.\n",
    "\n",
    "### 14. How do you type a tuple value that only contains the integer 42?\n",
    "Ans: t=(42,)\n",
    "\n",
    "### 15. How do you get a list value's tuple form? How do you get a tuple value's list form?\n",
    "Ans: using type casting we can get list values from tuple and vice versa.\n",
    "       \n",
    "\n",
    "### 16. Variables that \"contain\" list values are not necessarily lists themselves. Instead, what do they contain?\n",
    "Ans: Variables will contain references to list values rather than list values themselves. But for strings and integer values, variables simply contain the string or integer value. Python uses references whenever variables must store values of mutable data types, such as lists or dictionaries.\n",
    "\n",
    "### 17. How do you distinguish between copy.copy() and copy.deepcopy()?\n",
    "Ans: The difference between shallow and deep copying is only relevant for compound objects (objects that contain other objects, like lists or class instances):\n",
    "\n",
    "A shallow copy constructs a new compound object and then (to the extent possible) inserts references into it to the objects found in the original.\n",
    "\n",
    "A deep copy constructs a new compound object and then, recursively, inserts copies into it of the objects found in the original.\n"
   ]
  },
  {
   "cell_type": "code",
   "execution_count": 10,
   "metadata": {},
   "outputs": [
    {
     "name": "stdout",
     "output_type": "stream",
     "text": [
      "immutable - id(a)==id(a1) True\n",
      "immutable - id(b)==id(b1) True\n",
      "mutable - id(c)==id(c1) False\n",
      "mutable - id(d)==id(d1) False\n"
     ]
    }
   ],
   "source": [
    "import copy\n",
    "a = \"deepak\"\n",
    "b = 1, 2, 3, 4\n",
    "c = [1, 2, 3, 4]\n",
    "d = {1: 10, 2: 20, 3: 30}\n",
    "\n",
    "type(b)\n",
    " \n",
    "a1 = copy.copy(a)\n",
    "b1 = copy.copy(b)\n",
    "c1 = copy.copy(c)\n",
    "d1 = copy.copy(d)\n",
    "\n",
    "\n",
    "print(\"immutable - id(a)==id(a1)\", id(a) == id(a1))\n",
    "print(\"immutable - id(b)==id(b1)\", id(b) == id(b1))\n",
    "print(\"mutable - id(c)==id(c1)\", id(c) == id(c1))\n",
    "print(\"mutable - id(d)==id(d1)\", id(d) == id(d1))"
   ]
  },
  {
   "cell_type": "code",
   "execution_count": 21,
   "metadata": {},
   "outputs": [
    {
     "data": {
      "text/plain": [
       "('0x1f0988884a0', '0x1f0988884a0')"
      ]
     },
     "execution_count": 21,
     "metadata": {},
     "output_type": "execute_result"
    }
   ],
   "source": [
    "i = 1, 2, 3, 4\n",
    "j=i\n",
    "hex(id(i)), hex(id(j))\n"
   ]
  },
  {
   "cell_type": "code",
   "execution_count": 20,
   "metadata": {},
   "outputs": [
    {
     "name": "stdout",
     "output_type": "stream",
     "text": [
      "satya\n",
      "satya4\n"
     ]
    }
   ],
   "source": [
    "j=j+'4'\n",
    "print(i)\n",
    "print(j)"
   ]
  },
  {
   "cell_type": "code",
   "execution_count": 9,
   "metadata": {},
   "outputs": [
    {
     "name": "stdout",
     "output_type": "stream",
     "text": [
      "2280613736384\n"
     ]
    }
   ],
   "source": [
    "type(b)\n",
    "print(id(c))"
   ]
  },
  {
   "cell_type": "code",
   "execution_count": 10,
   "metadata": {},
   "outputs": [
    {
     "name": "stdout",
     "output_type": "stream",
     "text": [
      "2280613798144\n"
     ]
    }
   ],
   "source": [
    "print(id(c1))"
   ]
  },
  {
   "cell_type": "code",
   "execution_count": 11,
   "metadata": {},
   "outputs": [
    {
     "name": "stdout",
     "output_type": "stream",
     "text": [
      "2280613648000\n",
      "2280613648000\n"
     ]
    }
   ],
   "source": [
    "print(id(b))\n",
    "print(id(b1))"
   ]
  },
  {
   "cell_type": "code",
   "execution_count": 9,
   "metadata": {},
   "outputs": [
    {
     "name": "stdout",
     "output_type": "stream",
     "text": [
      "2132861298224\n",
      "<class 'list'>\n"
     ]
    }
   ],
   "source": [
    "s='satya'\n",
    "l=list('satya')\n",
    "print(id(s))\n",
    "print(type(l))"
   ]
  },
  {
   "cell_type": "code",
   "execution_count": 22,
   "metadata": {},
   "outputs": [],
   "source": [
    "import copy\n",
    "\n",
    "class Foo(object):\n",
    "    def __init__(self):\n",
    "        pass\n",
    "\n",
    "\n",
    "a = [Foo(), Foo()]\n",
    "shallow = copy.copy(a)\n",
    "deep = copy.deepcopy(a)"
   ]
  }
 ],
 "metadata": {
  "kernelspec": {
   "display_name": "Python 3",
   "language": "python",
   "name": "python3"
  },
  "language_info": {
   "codemirror_mode": {
    "name": "ipython",
    "version": 3
   },
   "file_extension": ".py",
   "mimetype": "text/x-python",
   "name": "python",
   "nbconvert_exporter": "python",
   "pygments_lexer": "ipython3",
   "version": "3.8.5"
  }
 },
 "nbformat": 4,
 "nbformat_minor": 4
}
