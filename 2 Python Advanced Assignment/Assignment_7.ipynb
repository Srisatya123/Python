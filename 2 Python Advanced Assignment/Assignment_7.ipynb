{
 "cells": [
  {
   "cell_type": "markdown",
   "metadata": {
    "id": "qYgRY0AqEt5o"
   },
   "source": [
    "### Q1. What is the purpose of the try statement?\n",
    "Ans) Python's try statement is a means which we can use to handle errors gracefully. If the error is handled properly, execution of the code does not produce error status and there is no output to stderr."
   ]
  },
  {
   "cell_type": "markdown",
   "metadata": {},
   "source": [
    "### Q2. What are the two most popular try statement variations?\n",
    "Ans) Below are the try statement variations\n",
    "try …except …else..finally\n",
    "\n",
    "try:\n",
    "\n",
    "    f = open('text.txt', 'r')  \n",
    "    \n",
    "    print(f.read())\n",
    "    \n",
    "finally:\n",
    "\n",
    "    f.close()\n",
    "\n",
    "we can use the ‘with’ statement and context manager to simplify exception handling operations.\n",
    "The with statement is used to wrap the execution of a block with methods defined by a context manager. ‘With’ statement in Python is used in exception handling to make the code cleaner and much more readable. It simplifies the management of common resources like file streams, DataBase connections, Locks and Tensorflow.\n",
    "\n",
    "with open('text.txt', 'r') as f:\n",
    "\n",
    "    print(f.read())\n",
    "\n",
    "A context manager is an object that defines the runtime context to be established when executing a ‘with’ statement. The context manager is usually used in scenarios where resources are used such as opening and closing files, using thread locks, and closing database connections. It can ensure that used resources are released quickly and effectively improve the security of the program.\n",
    "In Python, the context manager is usually used with the with statement to improve the simplicity of the program.\n"
   ]
  },
  {
   "cell_type": "markdown",
   "metadata": {},
   "source": [
    "### Q3. What is the purpose of the raise statement?\n",
    "Ans) The raise keyword is used to raise an exception. we can define what kind of error to raise, and the text to print."
   ]
  },
  {
   "cell_type": "code",
   "execution_count": 2,
   "metadata": {},
   "outputs": [
    {
     "ename": "TypeError",
     "evalue": "Only integers are allowed",
     "output_type": "error",
     "traceback": [
      "\u001b[1;31m---------------------------------------------------------------------------\u001b[0m",
      "\u001b[1;31mTypeError\u001b[0m                                 Traceback (most recent call last)",
      "\u001b[1;32m<ipython-input-2-c0549764ed53>\u001b[0m in \u001b[0;36m<module>\u001b[1;34m\u001b[0m\n\u001b[0;32m      1\u001b[0m \u001b[0mx\u001b[0m \u001b[1;33m=\u001b[0m \u001b[1;34m\"hello\"\u001b[0m\u001b[1;33m\u001b[0m\u001b[1;33m\u001b[0m\u001b[0m\n\u001b[0;32m      2\u001b[0m \u001b[1;32mif\u001b[0m \u001b[1;32mnot\u001b[0m \u001b[0mtype\u001b[0m\u001b[1;33m(\u001b[0m\u001b[0mx\u001b[0m\u001b[1;33m)\u001b[0m \u001b[1;32mis\u001b[0m \u001b[0mint\u001b[0m\u001b[1;33m:\u001b[0m\u001b[1;33m\u001b[0m\u001b[1;33m\u001b[0m\u001b[0m\n\u001b[1;32m----> 3\u001b[1;33m   \u001b[1;32mraise\u001b[0m \u001b[0mTypeError\u001b[0m\u001b[1;33m(\u001b[0m\u001b[1;34m\"Only integers are allowed\"\u001b[0m\u001b[1;33m)\u001b[0m\u001b[1;33m\u001b[0m\u001b[1;33m\u001b[0m\u001b[0m\n\u001b[0m",
      "\u001b[1;31mTypeError\u001b[0m: Only integers are allowed"
     ]
    }
   ],
   "source": [
    "x = \"hello\"\n",
    "if not type(x) is int:\n",
    "  raise TypeError(\"Only integers are allowed\")"
   ]
  },
  {
   "cell_type": "markdown",
   "metadata": {
    "id": "MP18GNl3E3P5"
   },
   "source": [
    "### Q4. What does the assert statement do, and what other statement is it like?\n",
    "Ans) Assertions are simply Boolean expressions that check if the conditions return true or not. Python has built-in assert statement to use assertion condition in the program. Assert statement has a condition or expression which is supposed to be always true. If the condition is false assert halts the program and gives an AssertionError.\n",
    "\n",
    "#### Syntax: assert condition,error message'\n",
    "\n"
   ]
  },
  {
   "cell_type": "markdown",
   "metadata": {},
   "source": [
    "### Q5. What is the purpose of the with/as argument, and what other statement is it like?\n",
    "Ans) Ignored as per the Skype Team Instructions.\n"
   ]
  }
 ],
 "metadata": {
  "colab": {
   "collapsed_sections": [],
   "name": "Assignment_7.ipynb",
   "provenance": []
  },
  "kernelspec": {
   "display_name": "Python 3",
   "language": "python",
   "name": "python3"
  },
  "language_info": {
   "codemirror_mode": {
    "name": "ipython",
    "version": 3
   },
   "file_extension": ".py",
   "mimetype": "text/x-python",
   "name": "python",
   "nbconvert_exporter": "python",
   "pygments_lexer": "ipython3",
   "version": "3.8.5"
  }
 },
 "nbformat": 4,
 "nbformat_minor": 1
}
