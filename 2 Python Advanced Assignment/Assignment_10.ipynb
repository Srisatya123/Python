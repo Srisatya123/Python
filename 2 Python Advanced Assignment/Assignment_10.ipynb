{
 "cells": [
  {
   "cell_type": "markdown",
   "metadata": {
    "id": "AWyLK252OJvE"
   },
   "source": [
    "#### Q1. What is the difference between '__ getattr __' and '__ getattribute __'?\n",
    "Ans) \n",
    "'__getattr__' : When we rewrite the __getattr__ method, if the attribute we accessed exists, it will be accessed normally. If the attribute of access is not existed, the __getattr__ method is executed\n",
    "Refer below example.\n",
    "\n",
    "'__getattribute__':\n",
    "This method is called unconditionally when accessing the properties of an object. This method only works for new classes.\n",
    "The new class is a class that integrates from object or type.\n",
    "If the class is also defined at the same time'__getattr__'()Method, it will not be called'__getattr__'()Method unless'__getattribute__'()Method shows the call'__getattr__'()Or thrownAttributeError。\n",
    "The method should return the property value or throwAttributeErrorabnormal.\n",
    "To avoid infinite recursion in methods, you should always use the methods of the base class to get the properties:"
   ]
  },
  {
   "cell_type": "markdown",
   "metadata": {
    "id": "FSfmyMVuOYOd"
   },
   "source": [
    "### Q2. What is the difference between properties and descriptors?\n",
    "Ans)\n",
    "#### Properties:\n",
    "We can bind getter, setter (and deleter) functions with an attribute name, using the built-in property function. When we do this, each reference to an attribute looks like simple, direct access, but invokes the appropriate function of the object. For example, anObject.price= someValue; anObject.value.\n",
    "#### Descriptors: \n",
    "We can bind getter, setter (and deleter) functions into a separate class. We then assign an object of this class to the attribute name. When we do this, each reference to an attribute looks like simple, direct access, but invokes an appropriate function of the Descriptor object. A Descriptor is a class which provides detailed get, set and delete control over an attribute of another object.\n",
    "\n"
   ]
  },
  {
   "cell_type": "markdown",
   "metadata": {
    "id": "83bzwF22ObaN"
   },
   "source": [
    "### Q3. What are the key differences in functionality between __getattr__ and __getattribute__, as well as properties and descriptors?\n",
    "Ans)A key difference between __getattr__ and __getattribute__ is \n",
    "that __getattr__ is only invoked if the attribute wasn't found the usual ways. It's good for implementing a fallback for missing attributes, and is probably the one of two you want.\n",
    "__getattribute__ is invoked before looking at the actual attributes on the object, and so can be tricky to implement correctly. You can end up in infinite recursions very easily.\n",
    "New-style classes derive from object, old-style classes are those in Python 2.x with no explicit base class. But the distinction between old-style and new-style classes is not the important one when choosing between __getattr__ and __getattribute__.\n",
    "You mostly use __getattr__."
   ]
  },
  {
   "cell_type": "markdown",
   "metadata": {
    "id": "wjwofrY1JxZC"
   },
   "source": [
    "### Practise"
   ]
  },
  {
   "cell_type": "code",
   "execution_count": 1,
   "metadata": {
    "colab": {
     "base_uri": "https://localhost:8080/",
     "height": 53
    },
    "id": "42QG0wk7JwQN",
    "outputId": "70091935-a2d0-4872-c88c-81ae518e8727"
   },
   "outputs": [
    {
     "name": "stdout",
     "output_type": "stream",
     "text": [
      "getting xyz\n"
     ]
    },
    {
     "data": {
      "text/plain": [
       "'Test does not have xyz attribute.'"
      ]
     },
     "execution_count": 1,
     "metadata": {},
     "output_type": "execute_result"
    }
   ],
   "source": [
    "class Test:\n",
    "  def __init__(self, x):\n",
    "    self.x = x\n",
    "  def __getattr__(self, name):\n",
    "    return 'Test does not have {} attribute.'.format(str(name))\n",
    "\n",
    "  def __getattribute__(self, name):\n",
    "      print (\"getting {}\".format(str(name)))\n",
    "      return object.__getattribute__(self, name)\n",
    "f = Test(10)\n",
    "f.xyz"
   ]
  },
  {
   "cell_type": "code",
   "execution_count": 2,
   "metadata": {
    "colab": {
     "base_uri": "https://localhost:8080/",
     "height": 70
    },
    "id": "RQjYGXxXJ-Xh",
    "outputId": "330c00a0-dd67-4cc0-987d-a5d9b9a0a585"
   },
   "outputs": [
    {
     "name": "stdout",
     "output_type": "stream",
     "text": [
      "getting x\n",
      "getting y\n"
     ]
    },
    {
     "data": {
      "text/plain": [
       "'Test does not have y attribute.'"
      ]
     },
     "execution_count": 2,
     "metadata": {},
     "output_type": "execute_result"
    }
   ],
   "source": [
    "f.x\n",
    "getattr(f, 'y', 'bar')"
   ]
  },
  {
   "cell_type": "markdown",
   "metadata": {
    "id": "d86Z9Bx2KMZl"
   },
   "source": [
    "Property Example:"
   ]
  },
  {
   "cell_type": "code",
   "execution_count": 3,
   "metadata": {
    "colab": {
     "base_uri": "https://localhost:8080/"
    },
    "id": "BkHW4A_-KfOF",
    "outputId": "70b9d2ee-ff2b-49a5-9cf4-a4a00970adb1"
   },
   "outputs": [
    {
     "data": {
      "text/plain": [
       "232.22222222222223"
      ]
     },
     "execution_count": 3,
     "metadata": {},
     "output_type": "execute_result"
    }
   ],
   "source": [
    "class Temperature( object ):\n",
    "    def fget( self ):\n",
    "        return self.celsius * 9 / 5 + 32\n",
    "    def fset( self, value ):\n",
    "        self.celsius= (float(value)-32) * 5 / 9\n",
    "    farenheit= property( fget, fset )\n",
    "    def cset( self, value ):\n",
    "        self.cTemp= float(value)\n",
    "    def cget( self ):\n",
    "        return self.cTemp\n",
    "    celsius= property( cget, cset, doc=\"Celsius temperature\" )\n",
    "\n",
    "oven= Temperature()\n",
    "oven.farenheit= 450\n",
    "oven.celsius"
   ]
  },
  {
   "cell_type": "code",
   "execution_count": 4,
   "metadata": {
    "colab": {
     "base_uri": "https://localhost:8080/"
    },
    "id": "ZYfA9ARSKMm0",
    "outputId": "a32f5d3d-9927-4d2d-8711-0525e788fc31"
   },
   "outputs": [
    {
     "data": {
      "text/plain": [
       "232.22222222222223"
      ]
     },
     "execution_count": 4,
     "metadata": {},
     "output_type": "execute_result"
    }
   ],
   "source": [
    "class Celsius( object ):\n",
    "    def __init__( self, value=0.0 ):\n",
    "        self.value= float(value)\n",
    "    def __get__( self, instance, owner ):\n",
    "        return self.value\n",
    "    def __set__( self, instance, value ):\n",
    "        self.value= float(value)\n",
    "\n",
    "class Farenheit( object ):\n",
    "    def __get__( self, instance, owner ):\n",
    "        return instance.celsius * 9 / 5 + 32\n",
    "    def __set__( self, instance, value ):\n",
    "        instance.celsius= (float(value)-32) * 5 / 9\n",
    "\n",
    "class Temperature( object ):\n",
    "    celsius= Celsius()\n",
    "    farenheit= Farenheit()\n",
    "\n",
    "oven= Temperature()\n",
    "oven.farenheit= 450\n",
    "oven.celsius\n",
    "\n",
    "\n"
   ]
  },
  {
   "cell_type": "code",
   "execution_count": 5,
   "metadata": {
    "colab": {
     "base_uri": "https://localhost:8080/"
    },
    "id": "yltEIG9GKzVe",
    "outputId": "d5603c90-df63-48cc-ffa7-8567703b3b65"
   },
   "outputs": [
    {
     "data": {
      "text/plain": [
       "347.0"
      ]
     },
     "execution_count": 5,
     "metadata": {},
     "output_type": "execute_result"
    }
   ],
   "source": [
    "oven.celsius= 175\n",
    "\n",
    "oven.farenheit"
   ]
  },
  {
   "cell_type": "markdown",
   "metadata": {
    "id": "Xy7yjVeKKN4X"
   },
   "source": [
    "Descriptor Example:"
   ]
  },
  {
   "cell_type": "code",
   "execution_count": 6,
   "metadata": {
    "colab": {
     "base_uri": "https://localhost:8080/"
    },
    "id": "x4hMVDZAKOQP",
    "outputId": "ee18fccf-f411-414a-f95a-d349df6e9225"
   },
   "outputs": [
    {
     "data": {
      "text/plain": [
       "232.22222222222223"
      ]
     },
     "execution_count": 6,
     "metadata": {},
     "output_type": "execute_result"
    }
   ],
   "source": [
    "class Celsius( object ):\n",
    "    def __init__( self, value=0.0 ):\n",
    "        self.value= float(value)\n",
    "    def __get__( self, instance, owner ):\n",
    "        return self.value\n",
    "    def __set__( self, instance, value ):\n",
    "        self.value= float(value)\n",
    "\n",
    "class Farenheit( object ):\n",
    "    def __get__( self, instance, owner ):\n",
    "        return instance.celsius * 9 / 5 + 32\n",
    "    def __set__( self, instance, value ):\n",
    "        instance.celsius= (float(value)-32) * 5 / 9\n",
    "\n",
    "class Temperature( object ):\n",
    "    celsius= Celsius()\n",
    "    farenheit= Farenheit()\n",
    "\n",
    "oven= Temperature()\n",
    "\n",
    "oven.farenheit= 450\n",
    "oven.celsius"
   ]
  }
 ],
 "metadata": {
  "colab": {
   "collapsed_sections": [],
   "name": "Assignment_10.ipynb",
   "provenance": []
  },
  "kernelspec": {
   "display_name": "Python 3",
   "language": "python",
   "name": "python3"
  },
  "language_info": {
   "codemirror_mode": {
    "name": "ipython",
    "version": 3
   },
   "file_extension": ".py",
   "mimetype": "text/x-python",
   "name": "python",
   "nbconvert_exporter": "python",
   "pygments_lexer": "ipython3",
   "version": "3.8.5"
  }
 },
 "nbformat": 4,
 "nbformat_minor": 1
}
