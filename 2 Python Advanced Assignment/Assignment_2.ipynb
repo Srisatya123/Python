{
 "cells": [
  {
   "cell_type": "markdown",
   "metadata": {
    "id": "qYgRY0AqEt5o"
   },
   "source": [
    "### Q1. What is the relationship between classes and modules?\n",
    "Ans: Classes are blueprints that allow you to create instances with attributes and bound functionality. Classes support inheritance, metaclasses, and descriptors.\n",
    "Modules can't do any of this, modules are essentially singleton instances of an internal module class, and all their globals are attributes on the module instance. You can manipulate those attributes as needed (add, remove and update), but take into account that these still form the global namespace for all code defined in that module.\n",
    "\n",
    "\n",
    "### Q2. How do you make instances and classes?\n",
    "Ans:  \n",
    "#### Class:\n",
    "The class statement creates a new class definition. The name of the class immediately follows the keyword class followed by a colon as follows –\n",
    "Ex: Class Institute: \n",
    "def __int__(self,name):\n",
    "\t\tself.name=name\n",
    "The first method __init__() is a special method, which is called class constructor or initialization method that Python calls when you create a new instance of this class.\n",
    "\n",
    "#### Instance:         \n",
    "To create instances of a class, you call the class using class name and pass in whatever arguments its __init__ method accepts.\n",
    "\n",
    "\n",
    "### Q3. Where and how should be class attributes created?\n",
    "Ans: A class attribute is a Python Variable that belongs to a class rather than a particular object. This is shared between all other objects of the same class and is defined outside the constructor function __init__(self,…), of the class. It’s sometimes used to specify a default value that all objects should have after they’ve been instantiated.\n",
    "\tEx : Class Triangle():\n",
    "\t\tPi=3.14\n",
    "\t\tDef __init__(self):\n",
    "\t\t\tpass\n",
    "\n",
    "### Q4. Where and how are instance attributes created?\n",
    "Ans: An instance attribute is a Python variable belonging to only one object. It is only accessible in the scope of the object and it is defined inside the constructor function of a class. For example, __init__(self,..).\n",
    "\tEx : Class Triangle():\n",
    "\t\tPi=3.14\n",
    "\t\tDef __init__(self,r):\n",
    "\t\t\tSelf. radius=r\n",
    "\n",
    "\n",
    "### Q5. What does the term \"self\" in a Python class mean?\n",
    "Ans: The self is used to represent the instance of the class. With this term, you can access the attributes and methods of the class in python. It binds the attributes with the given arguments. Self is always pointing to Current Object. Self is not a keyword, so in place of self can be used any other word. \n",
    "\n",
    "\n",
    "### Q6. How does a Python class handle operator overloading?\n",
    "Ans: Python operators work for built-in classes. But the same operator behaves differently with different types. For example, the + operator will perform arithmetic addition on two numbers, merge two lists, or concatenate two strings. This feature in Python that allows the same operator to have different meaning according to the context is called operator overloading.\n",
    "\n",
    "\n",
    "### Q7. When do you consider allowing operator overloading of your classes?\n",
    "Ans: When we are using the objects of user defined classes are used along with the operators like + (Addition), - (Subtraction), * (Multiplication), / (Division), ** (Power), //(Floor Division), %(Reminder) etc.. \n",
    "\n",
    "\n",
    "### Q8. What is the most popular form of operator overloading?\n",
    "Ans: The + operator will perform arithmetic addition on two numbers, merge two lists, or concatenate two strings. This is the popular form of operator overloading.\n",
    "\n",
    "\n",
    "### Q9. What are the two most important concepts to grasp in order to comprehend Python OOP code?\n",
    "Ans: Inheritance and Polymorphism are the two most important concepts of Python OOP.\n",
    "\n"
   ]
  },
  {
   "cell_type": "code",
   "execution_count": null,
   "metadata": {
    "id": "MP18GNl3E3P5"
   },
   "outputs": [],
   "source": []
  }
 ],
 "metadata": {
  "colab": {
   "collapsed_sections": [],
   "name": "Assignment_2.ipynb",
   "provenance": []
  },
  "kernelspec": {
   "display_name": "Python 3",
   "language": "python",
   "name": "python3"
  },
  "language_info": {
   "codemirror_mode": {
    "name": "ipython",
    "version": 3
   },
   "file_extension": ".py",
   "mimetype": "text/x-python",
   "name": "python",
   "nbconvert_exporter": "python",
   "pygments_lexer": "ipython3",
   "version": "3.8.5"
  }
 },
 "nbformat": 4,
 "nbformat_minor": 1
}
