{
 "cells": [
  {
   "cell_type": "markdown",
   "metadata": {
    "id": "nxktpGhS5g1Z"
   },
   "source": [
    "### 1. What is the concept of an abstract superclass?\n",
    "\n",
    "Ans: An abstract class can be considered as a blueprint for other classes. It allows you to create a set of methods that must be created within any child classes built from the abstract class. A class which contains one or more abstract methods is called an abstract class. An abstract method is a method that has a declaration but does not have an implementation. While we are designing large functional units we use an abstract class. When we want to provide a common interface for different implementations of a component, we use an abstract class. \n"
   ]
  },
  {
   "cell_type": "markdown",
   "metadata": {},
   "source": [
    "\n",
    "### 2. What happens when a class statement's top level contains a basic assignment statement?\n",
    "\n",
    "Ans: These basic assignment statement at the top level of a class will create class level variables and can be used in any methods in side that class.\n"
   ]
  },
  {
   "cell_type": "markdown",
   "metadata": {},
   "source": [
    "\n",
    "\n",
    "\n",
    "### 3. Why does a class need to manually call a superclass's __init__ method?\n",
    "\n",
    "Ans: In case of inheritance, __init__() of the superclass will be called automatically. But if we need to add more parameters  or change the order of the parameters  in the sub class then need to explicitly call the super().__init__ method in the base class __init__() method.\n"
   ]
  },
  {
   "cell_type": "markdown",
   "metadata": {},
   "source": [
    "\n",
    "\n",
    "### 4. How can you augment, instead of completely replacing, an inherited method?\n",
    "\n",
    "Ans. There isn't any method overloading in Python. But Polymorphism is one of the feature of OOPs. With this feature we can augment, instead of completely replacing, an inherited method by using default arguments.\n",
    "\n"
   ]
  },
  {
   "cell_type": "markdown",
   "metadata": {},
   "source": [
    "\n",
    "### 5. How is the local scope of a class different from that of a function?\n",
    "\n",
    "Ans : Declaring a variable outside of functions in the class, makes this variable as global and can be accessed any of the functions of the same class and other classes which are derived from\n"
   ]
  },
  {
   "cell_type": "code",
   "execution_count": null,
   "metadata": {},
   "outputs": [],
   "source": []
  },
  {
   "cell_type": "code",
   "execution_count": null,
   "metadata": {},
   "outputs": [],
   "source": []
  }
 ],
 "metadata": {
  "colab": {
   "collapsed_sections": [],
   "name": "Assignment_3.ipynb",
   "provenance": []
  },
  "kernelspec": {
   "display_name": "Python 3",
   "language": "python",
   "name": "python3"
  },
  "language_info": {
   "codemirror_mode": {
    "name": "ipython",
    "version": 3
   },
   "file_extension": ".py",
   "mimetype": "text/x-python",
   "name": "python",
   "nbconvert_exporter": "python",
   "pygments_lexer": "ipython3",
   "version": "3.8.5"
  }
 },
 "nbformat": 4,
 "nbformat_minor": 1
}
